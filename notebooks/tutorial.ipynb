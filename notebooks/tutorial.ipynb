{
 "cells": [
  {
   "cell_type": "markdown",
   "metadata": {},
   "source": [
    "# Parallel model execution using `nums.sklearn`"
   ]
  },
  {
   "cell_type": "markdown",
   "metadata": {},
   "source": [
    "This notebook aims to demonstrate the `nums.sklearn` module, which enables parallel training of scikit-learn models. \n",
    "\n",
    "For clarity, the form of parallelization offered by `nums.sklearn` differs from the block-partitioned scheme used by core NumS. Instead of parallelizing the computations on segments of the same multi-dimensional array, `nums.sklearn` parallelizes model execution, e.g. an ElasticNet and a GradientBoostingRegressor may be concurrently trained on separate cores. This will be referred to as coarse parallelism in the rest of this notebook.\n",
    "\n",
    "The scalability demands of modern data science workloads can vary widely depending on the task. Some tasks involve computations on terabyte-scale datasets, which are addressed by NumS's BlockArray abstraction. On the other hand, tasks like model selection are not necessarily bottlenecked by huge array sizes, but they entail executing a large number of machine learning models, such as ones implemented in the scikit-learn library. scikit-learn only executes on a single core, so a remedy to this is coarse parallelism with `nums.sklearn`.\n",
    "\n",
    "In this notebook, we showcase how to run a large scale data science task `much` faster using NumS. We will extract and preprocess data from the [GHCN-D dataset](https://registry.opendata.aws/noaa-ghcn/), which contains weather data collected from around the world for the past 2 centuries. From this dataset, we will perform model selection: put together time series data for a few specific stations and fit a large number of regression models to determine which model works the best. The GHCN-D dataset is >100 GB in total, and some intermediate computations are also cached in memory for performance reasons, so we don't recommend running this notebook on personal machines. The author's setup consists of 1 head and 2 worker nodes on AWS EC2, each being r5.16xlarge instances.\n",
    "\n",
    "While not the main focus, this notebook will also make use of several other features of the NumS library like array manipulation and interoperability with Modin."
   ]
  },
  {
   "cell_type": "markdown",
   "metadata": {},
   "source": [
    "## Sections\n",
    "\n",
    "[1. Imports and settings](#1)\n",
    "\n",
    "[2. Data loading and preprocessing](#2)\n",
    "\n",
    "[3. Model formulation](#3)\n",
    "\n",
    "[4. Model search space](#4)\n",
    "\n",
    "[5. Parallel model selection](#5)"
   ]
  },
  {
   "cell_type": "markdown",
   "metadata": {},
   "source": [
    "<a id='1'></a>\n",
    "## 1. Imports and settings"
   ]
  },
  {
   "cell_type": "code",
   "execution_count": 1,
   "metadata": {},
   "outputs": [],
   "source": [
    "import numpy as np\n",
    "import pandas\n",
    "import matplotlib.pyplot as plt\n",
    "import os\n",
    "import ray\n",
    "from modin import pandas as pd\n",
    "from nums import numpy as nps\n",
    "from nums.core import settings\n",
    "import nums\n",
    "import boto3\n",
    "from tqdm import tqdm"
   ]
  },
  {
   "cell_type": "markdown",
   "metadata": {},
   "source": [
    "NumS uses the Ray distributed framework, hence we configure some cluster settings involving ray."
   ]
  },
  {
   "cell_type": "code",
   "execution_count": 2,
   "metadata": {},
   "outputs": [
    {
     "name": "stderr",
     "output_type": "stream",
     "text": [
      "2022-01-17 05:13:07,452\tINFO worker.py:826 -- Connecting to existing Ray cluster at address: 10.0.0.198:6379\n"
     ]
    },
    {
     "name": "stdout",
     "output_type": "stream",
     "text": [
      "(1, 1)\n",
      "Using driver node ip as head node.\n",
      "head node 10.0.0.198\n",
      "total cpus 64.0\n",
      "device_grid (0, 0) 0=node:10.0.0.198/cpu:1\n"
     ]
    }
   ],
   "source": [
    "# Cluster settings\n",
    "os.environ[\"RAY_IGNORE_UNHANDLED_ERRORS\"] = \"0\" # Don't ignore errors\n",
    "ray.init(ignore_reinit_error=True, address=\"auto\") # On cluster\n",
    "# ray.init() # On local machine\n",
    "if len(ray.nodes()) > 1:\n",
    "    settings.cluster_shape = (len(ray.nodes()) - 1, 1)\n",
    "print(settings.cluster_shape)\n",
    "nums.init()"
   ]
  },
  {
   "cell_type": "markdown",
   "metadata": {},
   "source": [
    "<a id='2'></a>\n",
    "## 2. Data loading and preprocessing"
   ]
  },
  {
   "cell_type": "markdown",
   "metadata": {},
   "source": [
    "We load the inventory table of year ranges for which a feature is available from a particular station."
   ]
  },
  {
   "cell_type": "code",
   "execution_count": 3,
   "metadata": {},
   "outputs": [],
   "source": [
    "# Global variables\n",
    "all_years = list(range(1763, 2022))\n",
    "local_path = \"../ghcnd\"\n",
    "predictors = [\"TMAX\", \"TMIN\", \"PRCP\", \"SNOW\"] # Keep in same order"
   ]
  },
  {
   "cell_type": "code",
   "execution_count": 4,
   "metadata": {
    "scrolled": true
   },
   "outputs": [
    {
     "name": "stdout",
     "output_type": "stream",
     "text": [
      "2921\n"
     ]
    },
    {
     "data": {
      "text/html": [
       "<div>\n",
       "<style scoped>\n",
       "    .dataframe tbody tr th:only-of-type {\n",
       "        vertical-align: middle;\n",
       "    }\n",
       "\n",
       "    .dataframe tbody tr th {\n",
       "        vertical-align: top;\n",
       "    }\n",
       "\n",
       "    .dataframe thead th {\n",
       "        text-align: right;\n",
       "    }\n",
       "</style>\n",
       "<table border=\"1\" class=\"dataframe\">\n",
       "  <thead>\n",
       "    <tr style=\"text-align: right;\">\n",
       "      <th></th>\n",
       "      <th>ID</th>\n",
       "      <th>LATITUDE</th>\n",
       "      <th>LONGITUDE</th>\n",
       "      <th>ELEVATION</th>\n",
       "      <th>STATE</th>\n",
       "      <th>NAME</th>\n",
       "      <th>GSN FLAG</th>\n",
       "      <th>HCN/CRN FLAG</th>\n",
       "      <th>WMO ID</th>\n",
       "    </tr>\n",
       "  </thead>\n",
       "  <tbody>\n",
       "    <tr>\n",
       "      <th>56087</th>\n",
       "      <td>US1CAAL0001</td>\n",
       "      <td>37.8123</td>\n",
       "      <td>-122.2160</td>\n",
       "      <td>113.4</td>\n",
       "      <td>CA</td>\n",
       "      <td>PIEDMONT 1.0 SE</td>\n",
       "      <td>NaN</td>\n",
       "      <td>NaN</td>\n",
       "      <td>NaN</td>\n",
       "    </tr>\n",
       "    <tr>\n",
       "      <th>56088</th>\n",
       "      <td>US1CAAL0002</td>\n",
       "      <td>37.7075</td>\n",
       "      <td>-122.0687</td>\n",
       "      <td>87.5</td>\n",
       "      <td>CA</td>\n",
       "      <td>CASTRO VALLEY 0.5 WSW</td>\n",
       "      <td>NaN</td>\n",
       "      <td>NaN</td>\n",
       "      <td>NaN</td>\n",
       "    </tr>\n",
       "    <tr>\n",
       "      <th>56089</th>\n",
       "      <td>US1CAAL0003</td>\n",
       "      <td>37.7169</td>\n",
       "      <td>-122.0585</td>\n",
       "      <td>163.4</td>\n",
       "      <td>CA</td>\n",
       "      <td>CASTRO VALLEY 0.4 NNE</td>\n",
       "      <td>NaN</td>\n",
       "      <td>NaN</td>\n",
       "      <td>NaN</td>\n",
       "    </tr>\n",
       "    <tr>\n",
       "      <th>56090</th>\n",
       "      <td>US1CAAL0004</td>\n",
       "      <td>37.6483</td>\n",
       "      <td>-121.8745</td>\n",
       "      <td>107.0</td>\n",
       "      <td>CA</td>\n",
       "      <td>PLEASANTON 1.8 SSE</td>\n",
       "      <td>NaN</td>\n",
       "      <td>NaN</td>\n",
       "      <td>NaN</td>\n",
       "    </tr>\n",
       "    <tr>\n",
       "      <th>56091</th>\n",
       "      <td>US1CAAL0006</td>\n",
       "      <td>37.8319</td>\n",
       "      <td>-122.2503</td>\n",
       "      <td>58.2</td>\n",
       "      <td>CA</td>\n",
       "      <td>OAKLAND 4.4 NNW</td>\n",
       "      <td>NaN</td>\n",
       "      <td>NaN</td>\n",
       "      <td>NaN</td>\n",
       "    </tr>\n",
       "  </tbody>\n",
       "</table>\n",
       "</div>"
      ],
      "text/plain": [
       "                ID  LATITUDE  LONGITUDE  ELEVATION STATE  \\\n",
       "56087  US1CAAL0001   37.8123  -122.2160      113.4    CA   \n",
       "56088  US1CAAL0002   37.7075  -122.0687       87.5    CA   \n",
       "56089  US1CAAL0003   37.7169  -122.0585      163.4    CA   \n",
       "56090  US1CAAL0004   37.6483  -121.8745      107.0    CA   \n",
       "56091  US1CAAL0006   37.8319  -122.2503       58.2    CA   \n",
       "\n",
       "                        NAME GSN FLAG HCN/CRN FLAG  WMO ID  \n",
       "56087        PIEDMONT 1.0 SE      NaN          NaN     NaN  \n",
       "56088  CASTRO VALLEY 0.5 WSW      NaN          NaN     NaN  \n",
       "56089  CASTRO VALLEY 0.4 NNE      NaN          NaN     NaN  \n",
       "56090     PLEASANTON 1.8 SSE      NaN          NaN     NaN  \n",
       "56091        OAKLAND 4.4 NNW      NaN          NaN     NaN  "
      ]
     },
     "execution_count": 4,
     "metadata": {},
     "output_type": "execute_result"
    }
   ],
   "source": [
    "if local_path:\n",
    "    stations = pd.read_fwf(f\"{local_path}/ghcnd-stations.txt\", widths=[12, 9, 10, 7, 3, 31, 4, 4, 6], header=None)\n",
    "else:\n",
    "    stations = pd.read_fwf(\"s3://noaa-ghcn-pds/ghcnd-stations.txt\", widths=[12, 9, 10, 7, 3, 31, 4, 4, 6], header=None)\n",
    "stations.columns = [\"ID\", \"LATITUDE\", \"LONGITUDE\", \"ELEVATION\", \"STATE\", \"NAME\", \"GSN FLAG\", \"HCN/CRN FLAG\", \"WMO ID\"]\n",
    "ca_stations = stations[stations[\"STATE\"] == \"CA\"]\n",
    "print(len(ca_stations))\n",
    "ca_stations.head()"
   ]
  },
  {
   "cell_type": "code",
   "execution_count": 5,
   "metadata": {},
   "outputs": [
    {
     "data": {
      "text/html": [
       "<div>\n",
       "<style scoped>\n",
       "    .dataframe tbody tr th:only-of-type {\n",
       "        vertical-align: middle;\n",
       "    }\n",
       "\n",
       "    .dataframe tbody tr th {\n",
       "        vertical-align: top;\n",
       "    }\n",
       "\n",
       "    .dataframe thead th {\n",
       "        text-align: right;\n",
       "    }\n",
       "</style>\n",
       "<table border=\"1\" class=\"dataframe\">\n",
       "  <thead>\n",
       "    <tr style=\"text-align: right;\">\n",
       "      <th></th>\n",
       "      <th>ID</th>\n",
       "      <th>LATITUDE</th>\n",
       "      <th>LONGITUDE</th>\n",
       "      <th>ELEVATION</th>\n",
       "      <th>STATE</th>\n",
       "      <th>NAME</th>\n",
       "      <th>GSN FLAG</th>\n",
       "      <th>HCN/CRN FLAG</th>\n",
       "      <th>WMO ID</th>\n",
       "    </tr>\n",
       "  </thead>\n",
       "  <tbody>\n",
       "    <tr>\n",
       "      <th>93290</th>\n",
       "      <td>USC00040693</td>\n",
       "      <td>37.8744</td>\n",
       "      <td>-122.2606</td>\n",
       "      <td>94.5</td>\n",
       "      <td>CA</td>\n",
       "      <td>BERKELEY</td>\n",
       "      <td>NaN</td>\n",
       "      <td>HCN</td>\n",
       "      <td>NaN</td>\n",
       "    </tr>\n",
       "  </tbody>\n",
       "</table>\n",
       "</div>"
      ],
      "text/plain": [
       "                ID  LATITUDE  LONGITUDE  ELEVATION STATE      NAME GSN FLAG  \\\n",
       "93290  USC00040693   37.8744  -122.2606       94.5    CA  BERKELEY      NaN   \n",
       "\n",
       "      HCN/CRN FLAG  WMO ID  \n",
       "93290          HCN     NaN  "
      ]
     },
     "execution_count": 5,
     "metadata": {},
     "output_type": "execute_result"
    }
   ],
   "source": [
    "ca_stations.loc[ca_stations[\"ID\"] == \"USC00040693\"]"
   ]
  },
  {
   "cell_type": "code",
   "execution_count": 6,
   "metadata": {},
   "outputs": [
    {
     "data": {
      "text/html": [
       "<div>\n",
       "<style scoped>\n",
       "    .dataframe tbody tr th:only-of-type {\n",
       "        vertical-align: middle;\n",
       "    }\n",
       "\n",
       "    .dataframe tbody tr th {\n",
       "        vertical-align: top;\n",
       "    }\n",
       "\n",
       "    .dataframe thead th {\n",
       "        text-align: right;\n",
       "    }\n",
       "</style>\n",
       "<table border=\"1\" class=\"dataframe\">\n",
       "  <thead>\n",
       "    <tr style=\"text-align: right;\">\n",
       "      <th></th>\n",
       "      <th>ID</th>\n",
       "      <th>LATITUDE</th>\n",
       "      <th>LONGITUDE</th>\n",
       "      <th>ELEMENT</th>\n",
       "      <th>FIRSTYEAR</th>\n",
       "      <th>LASTYEAR</th>\n",
       "    </tr>\n",
       "  </thead>\n",
       "  <tbody>\n",
       "    <tr>\n",
       "      <th>0</th>\n",
       "      <td>ACW00011604</td>\n",
       "      <td>17.1167</td>\n",
       "      <td>-61.7833</td>\n",
       "      <td>TMAX</td>\n",
       "      <td>1949</td>\n",
       "      <td>1949</td>\n",
       "    </tr>\n",
       "    <tr>\n",
       "      <th>1</th>\n",
       "      <td>ACW00011604</td>\n",
       "      <td>17.1167</td>\n",
       "      <td>-61.7833</td>\n",
       "      <td>TMIN</td>\n",
       "      <td>1949</td>\n",
       "      <td>1949</td>\n",
       "    </tr>\n",
       "    <tr>\n",
       "      <th>2</th>\n",
       "      <td>ACW00011604</td>\n",
       "      <td>17.1167</td>\n",
       "      <td>-61.7833</td>\n",
       "      <td>PRCP</td>\n",
       "      <td>1949</td>\n",
       "      <td>1949</td>\n",
       "    </tr>\n",
       "    <tr>\n",
       "      <th>3</th>\n",
       "      <td>ACW00011604</td>\n",
       "      <td>17.1167</td>\n",
       "      <td>-61.7833</td>\n",
       "      <td>SNOW</td>\n",
       "      <td>1949</td>\n",
       "      <td>1949</td>\n",
       "    </tr>\n",
       "    <tr>\n",
       "      <th>4</th>\n",
       "      <td>ACW00011604</td>\n",
       "      <td>17.1167</td>\n",
       "      <td>-61.7833</td>\n",
       "      <td>SNWD</td>\n",
       "      <td>1949</td>\n",
       "      <td>1949</td>\n",
       "    </tr>\n",
       "  </tbody>\n",
       "</table>\n",
       "</div>"
      ],
      "text/plain": [
       "            ID  LATITUDE  LONGITUDE ELEMENT  FIRSTYEAR  LASTYEAR\n",
       "0  ACW00011604   17.1167   -61.7833    TMAX       1949      1949\n",
       "1  ACW00011604   17.1167   -61.7833    TMIN       1949      1949\n",
       "2  ACW00011604   17.1167   -61.7833    PRCP       1949      1949\n",
       "3  ACW00011604   17.1167   -61.7833    SNOW       1949      1949\n",
       "4  ACW00011604   17.1167   -61.7833    SNWD       1949      1949"
      ]
     },
     "execution_count": 6,
     "metadata": {},
     "output_type": "execute_result"
    }
   ],
   "source": [
    "if local_path:\n",
    "    inventory = pd.read_fwf(f\"{local_path}/ghcnd-inventory.txt\", widths=[12, 9, 10, 4, 5, 5], header=None, \n",
    "                            names=[\"ID\", \"LATITUDE\", \"LONGITUDE\", \"ELEMENT\", \"FIRSTYEAR\", \"LASTYEAR\"])\n",
    "else:\n",
    "    inventory = pd.read_fwf(\"s3://noaa-ghcn-pds/ghcnd-inventory.txt\", widths=[12, 9, 10, 4, 5, 5], header=None, \n",
    "                            names=[\"ID\", \"LATITUDE\", \"LONGITUDE\", \"ELEMENT\", \"FIRSTYEAR\", \"LASTYEAR\"])\n",
    "inventory.head()"
   ]
  },
  {
   "cell_type": "markdown",
   "metadata": {},
   "source": [
    "We define a function that loads the dataframe for a specific year from .csv data, then use it to load dataframes from all available years, caching them in a dictionary."
   ]
  },
  {
   "cell_type": "code",
   "execution_count": 7,
   "metadata": {},
   "outputs": [
    {
     "name": "stderr",
     "output_type": "stream",
     "text": [
      "100%|██████████████████████████████████████████████████████████████████████████████████████████████████████████████████████████████████████████████████████████████████████████████| 259/259 [08:17<00:00,  1.92s/it]\n"
     ]
    }
   ],
   "source": [
    "def data_loader(year, local_path=local_path):\n",
    "    assert year in all_years\n",
    "    if local_path:\n",
    "        df = pd.read_csv(f\"{local_path}/csv/{year}.csv\", header=None, names=[\n",
    "            \"ID\", \"YEAR/MONTH/DAY\", \"ELEMENT\", \"DATA VALUE\", \"M-FLAG\", \"Q-FLAG\", \"S-FLAG\", \"OBS-TIME\"\n",
    "        ])\n",
    "    else:\n",
    "        df = pd.read_csv(f\"s3://noaa-ghcn-pds/csv/{year}.csv\", header=None, names=[\n",
    "            \"ID\", \"YEAR/MONTH/DAY\", \"ELEMENT\", \"DATA VALUE\", \"M-FLAG\", \"Q-FLAG\", \"S-FLAG\", \"OBS-TIME\"\n",
    "        ])\n",
    "    # df.columns = [\"ID\", \"YEAR/MONTH/DAY\", \"ELEMENT\", \"DATA VALUE\", \"M-FLAG\", \"Q-FLAG\", \"S-FLAG\", \"OBS-TIME\"]\n",
    "    df[\"YEAR/MONTH/DAY\"] = pd.to_datetime(df[\"YEAR/MONTH/DAY\"], format=\"%Y%m%d\")\n",
    "    return df\n",
    "\n",
    "year_dfs = {}\n",
    "for year in tqdm(all_years):\n",
    "    year_dfs[year] = data_loader(year).merge(ca_stations[[\"ID\"]], on=\"ID\", how=\"inner\")"
   ]
  },
  {
   "cell_type": "markdown",
   "metadata": {},
   "source": [
    "For each station, we create a time series dataframe. This involves selecting rows from all year_dfs with a matching station ID and element and appending them, with the date as the index."
   ]
  },
  {
   "cell_type": "code",
   "execution_count": 8,
   "metadata": {},
   "outputs": [
    {
     "name": "stdout",
     "output_type": "stream",
     "text": [
      "CPU times: user 16.1 s, sys: 2.7 s, total: 18.8 s\n",
      "Wall time: 14.4 s\n"
     ]
    },
    {
     "data": {
      "text/html": [
       "<div>\n",
       "<style scoped>\n",
       "    .dataframe tbody tr th:only-of-type {\n",
       "        vertical-align: middle;\n",
       "    }\n",
       "\n",
       "    .dataframe tbody tr th {\n",
       "        vertical-align: top;\n",
       "    }\n",
       "\n",
       "    .dataframe thead th {\n",
       "        text-align: right;\n",
       "    }\n",
       "</style>\n",
       "<table border=\"1\" class=\"dataframe\">\n",
       "  <thead>\n",
       "    <tr style=\"text-align: right;\">\n",
       "      <th></th>\n",
       "      <th>TMAX</th>\n",
       "      <th>TMIN</th>\n",
       "      <th>PRCP</th>\n",
       "      <th>SNOW</th>\n",
       "    </tr>\n",
       "  </thead>\n",
       "  <tbody>\n",
       "    <tr>\n",
       "      <th>1990-01-01</th>\n",
       "      <td>111.0</td>\n",
       "      <td>72.0</td>\n",
       "      <td>224.0</td>\n",
       "      <td>0.0</td>\n",
       "    </tr>\n",
       "    <tr>\n",
       "      <th>1990-01-02</th>\n",
       "      <td>133.0</td>\n",
       "      <td>33.0</td>\n",
       "      <td>0.0</td>\n",
       "      <td>0.0</td>\n",
       "    </tr>\n",
       "    <tr>\n",
       "      <th>1990-01-03</th>\n",
       "      <td>122.0</td>\n",
       "      <td>39.0</td>\n",
       "      <td>0.0</td>\n",
       "      <td>0.0</td>\n",
       "    </tr>\n",
       "    <tr>\n",
       "      <th>1990-01-04</th>\n",
       "      <td>122.0</td>\n",
       "      <td>39.0</td>\n",
       "      <td>0.0</td>\n",
       "      <td>0.0</td>\n",
       "    </tr>\n",
       "    <tr>\n",
       "      <th>1990-01-05</th>\n",
       "      <td>139.0</td>\n",
       "      <td>50.0</td>\n",
       "      <td>0.0</td>\n",
       "      <td>0.0</td>\n",
       "    </tr>\n",
       "    <tr>\n",
       "      <th>...</th>\n",
       "      <td>...</td>\n",
       "      <td>...</td>\n",
       "      <td>...</td>\n",
       "      <td>...</td>\n",
       "    </tr>\n",
       "    <tr>\n",
       "      <th>2000-12-27</th>\n",
       "      <td>139.0</td>\n",
       "      <td>61.0</td>\n",
       "      <td>0.0</td>\n",
       "      <td>0.0</td>\n",
       "    </tr>\n",
       "    <tr>\n",
       "      <th>2000-12-28</th>\n",
       "      <td>150.0</td>\n",
       "      <td>56.0</td>\n",
       "      <td>0.0</td>\n",
       "      <td>0.0</td>\n",
       "    </tr>\n",
       "    <tr>\n",
       "      <th>2000-12-29</th>\n",
       "      <td>161.0</td>\n",
       "      <td>56.0</td>\n",
       "      <td>0.0</td>\n",
       "      <td>0.0</td>\n",
       "    </tr>\n",
       "    <tr>\n",
       "      <th>2000-12-30</th>\n",
       "      <td>156.0</td>\n",
       "      <td>50.0</td>\n",
       "      <td>0.0</td>\n",
       "      <td>0.0</td>\n",
       "    </tr>\n",
       "    <tr>\n",
       "      <th>2000-12-31</th>\n",
       "      <td>167.0</td>\n",
       "      <td>28.0</td>\n",
       "      <td>0.0</td>\n",
       "      <td>0.0</td>\n",
       "    </tr>\n",
       "  </tbody>\n",
       "</table>\n",
       "<p>4018 rows x 4 columns</p>\n",
       "</div>"
      ],
      "text/plain": [
       "             TMAX  TMIN   PRCP  SNOW\n",
       "1990-01-01  111.0  72.0  224.0   0.0\n",
       "1990-01-02  133.0  33.0    0.0   0.0\n",
       "1990-01-03  122.0  39.0    0.0   0.0\n",
       "1990-01-04  122.0  39.0    0.0   0.0\n",
       "1990-01-05  139.0  50.0    0.0   0.0\n",
       "...           ...   ...    ...   ...\n",
       "2000-12-27  139.0  61.0    0.0   0.0\n",
       "2000-12-28  150.0  56.0    0.0   0.0\n",
       "2000-12-29  161.0  56.0    0.0   0.0\n",
       "2000-12-30  156.0  50.0    0.0   0.0\n",
       "2000-12-31  167.0  28.0    0.0   0.0\n",
       "\n",
       "[4018 rows x 4 columns]"
      ]
     },
     "execution_count": 8,
     "metadata": {},
     "output_type": "execute_result"
    }
   ],
   "source": [
    "%%time\n",
    "def time_series(years_range, station_id, elements):\n",
    "    assert isinstance(elements, list)\n",
    "    df_elements = pd.DataFrame(columns=[\"DATA VALUE\"])\n",
    "    for year in range(years_range[0], years_range[1] + 1):\n",
    "        df = year_dfs[year]\n",
    "        df = df.loc[(df[\"ID\"] == station_id) & (df[\"ELEMENT\"].isin(elements))]\n",
    "        \n",
    "        if df_elements.empty:\n",
    "            df_elements = df\n",
    "        else:\n",
    "            df_elements = df_elements.append(df)\n",
    "        \n",
    "    ts = pd.pivot_table(df_elements, values=[\"DATA VALUE\"], index=[\"YEAR/MONTH/DAY\"], columns=[\"ELEMENT\"])\n",
    "    \n",
    "    # Impute missing values\n",
    "    ts = ts.reindex(pd.date_range(ts.index.min(), ts.index.max()))\n",
    "    ts = ts.groupby(ts.index.strftime('%b-%d')).transform(lambda g: g.fillna(g.mean()))\n",
    "    # ts.index = ts.index.droplevel(0)\n",
    "    return ts.reindex(elements, axis=1)\n",
    "    \n",
    "test_ts = time_series((1990, 2000), \"USC00040693\", [\"TMAX\", \"TMIN\", \"PRCP\", \"SNOW\"])\n",
    "test_ts"
   ]
  },
  {
   "cell_type": "markdown",
   "metadata": {},
   "source": [
    "Since a station may record different elements for different year ranges, we attempt to return a maximal time series for which records exist for all desired elements from the station."
   ]
  },
  {
   "cell_type": "code",
   "execution_count": 9,
   "metadata": {},
   "outputs": [
    {
     "data": {
      "text/plain": [
       "(1899, 2010)"
      ]
     },
     "execution_count": 9,
     "metadata": {},
     "output_type": "execute_result"
    }
   ],
   "source": [
    "def max_years_range(station_id, elements, min_range=20):\n",
    "    start, end = 0, np.inf\n",
    "    for el in elements:\n",
    "        start = max(start, inventory[(inventory[\"ID\"]==station_id) & (inventory[\"ELEMENT\"]==el)][\"FIRSTYEAR\"].max())\n",
    "        end = min(end, inventory[(inventory[\"ID\"]==station_id) & (inventory[\"ELEMENT\"]==el)][\"LASTYEAR\"].min())\n",
    "    if start <= end - min_range + 1:\n",
    "        return start, end\n",
    "    return None\n",
    "\n",
    "max_years_range(\"USC00040693\", [\"TMAX\", \"TMIN\", \"PRCP\", \"SNOW\"])"
   ]
  },
  {
   "cell_type": "markdown",
   "metadata": {},
   "source": [
    "<a id='3'></a>\n",
    "## 3. Model formulation"
   ]
  },
  {
   "cell_type": "markdown",
   "metadata": {},
   "source": [
    "The function below constructs a multivariate AR design matrix $X$ from a time series. Specifically, to predict some element $y_i$ at day $i=t$, we use the set of predictor elements $X_i$ recorded at $i \\in \\{t-1, t-2, ..., t-p\\}$, where the lag $p$ is a hyperparameter indicating how many past days will be included in our prediction model. This formulation is closely related to [autoregressive (AR) modeling](https://en.wikipedia.org/wiki/Autoregressive_model).\n",
    "\n",
    "This function assumes the input parameters to be BlockArrays, and the reason for this will be explained later. For now, observe that BlockArray has a very similar interface as NumPy arrays, allowing us to transform a time series to a design matrix."
   ]
  },
  {
   "cell_type": "code",
   "execution_count": 10,
   "metadata": {},
   "outputs": [
    {
     "name": "stdout",
     "output_type": "stream",
     "text": [
      "[[111.  72. 224. ... 106.   0.   0.]\n",
      " [133.  33.   0. ...  94.   0.   0.]\n",
      " [122.  39.   0. ...  94. 396.   0.]\n",
      " ...\n",
      " [150.  67.   0. ...  56.   0.   0.]\n",
      " [161.  78.   0. ...  56.   0.   0.]\n",
      " [144.  50.   0. ...  50.   0.   0.]]\n",
      "[156. 139. 128. ... 161. 156. 167.]\n",
      "CPU times: user 680 ms, sys: 131 ms, total: 811 ms\n",
      "Wall time: 533 ms\n"
     ]
    }
   ],
   "source": [
    "%%time\n",
    "\n",
    "from nums import from_modin\n",
    "\n",
    "def multivar_ar(days_range, tseries, p):\n",
    "    \"\"\"\n",
    "    tseries is a BlockArray with all columns as predictor features, and first column is also the response\n",
    "    \"\"\"\n",
    "    pred_series = tseries[days_range[0]:days_range[1]]\n",
    "    series_len = pred_series.shape[0]\n",
    "    pred_mat = nps.hstack([pred_series[i : series_len - p + i] for i in np.arange(p)])    \n",
    "    resp_vec = pred_series[p:, 0].reshape(-1)\n",
    "    return pred_mat, resp_vec\n",
    "\n",
    "nps_ts = from_modin(test_ts.reset_index(drop=True)) # from_modin: DataFrame -> BlockArray\n",
    "pred, resp = multivar_ar((0, None), nps_ts, 10)\n",
    "print(pred.get())\n",
    "print(resp.get())"
   ]
  },
  {
   "cell_type": "markdown",
   "metadata": {},
   "source": [
    "We define a standard RMSE function to be used during validation and testing."
   ]
  },
  {
   "cell_type": "code",
   "execution_count": 11,
   "metadata": {},
   "outputs": [],
   "source": [
    "def rmse(y, pred):\n",
    "    if isinstance(y, np.ndarray):\n",
    "        return np.sqrt(np.mean((pred - y) ** 2))\n",
    "    else:\n",
    "        return nps.sqrt(nps.mean((pred - y) ** 2))"
   ]
  },
  {
   "cell_type": "markdown",
   "metadata": {},
   "source": [
    "We precompute the time series for the stations whose data we will analyze, convert them from DataFrames to BlockArrays, then cache the results. The goal of this is to take advantage NumS's asynchronous execution model by removing all blocking computation tasks during the model selection phase, as we shall seen soon."
   ]
  },
  {
   "cell_type": "code",
   "execution_count": 12,
   "metadata": {},
   "outputs": [
    {
     "name": "stderr",
     "output_type": "stream",
     "text": [
      "100%|█████████████████████████████████████████████████████████████████████████████████████████████████████████████████████████████████████████████████████████████████████████████████| 1/1 [02:37<00:00, 157.65s/it]"
     ]
    },
    {
     "name": "stdout",
     "output_type": "stream",
     "text": [
      "Number of stations: 1\n"
     ]
    },
    {
     "name": "stderr",
     "output_type": "stream",
     "text": [
      "\n"
     ]
    }
   ],
   "source": [
    "from nums import from_modin\n",
    "\n",
    "predictors = [\"TMAX\", \"TMIN\", \"PRCP\", \"SNOW\"]\n",
    "response = \"TMAX\"\n",
    "if response not in predictors:\n",
    "    predictors.append(response)\n",
    "\n",
    "# Cache all the time series for weather stations with enough data\n",
    "station_tseries = {}\n",
    "station_max_range = {}\n",
    "\n",
    "# For now, just look at one station (USC00040693)\n",
    "station_ids = [\"USC00040693\"]\n",
    "for station_id in tqdm(station_ids):\n",
    "    years_range = max_years_range(station_id, predictors)\n",
    "    if years_range:\n",
    "        station_max_range[station_id] = years_range\n",
    "        tseries = time_series(station_max_range[station_id], station_id, predictors)\n",
    "        station_tseries[station_id] = from_modin(tseries.reset_index(drop=True)) # from_modin: DataFrame -> BlockArray\n",
    "print(f\"Number of stations: {len(station_tseries)}\")"
   ]
  },
  {
   "cell_type": "markdown",
   "metadata": {},
   "source": [
    "<a id='4'></a>\n",
    "## 4. Model search space"
   ]
  },
  {
   "cell_type": "markdown",
   "metadata": {},
   "source": [
    "For each station, we will search for the best combination of model and hyperparameters. \n",
    "\n",
    "The problem to be solved for each station is essentially the same: we want to find some regressor that best fits the previously defined design matrix $X$ to the data in $y$. We will try several popular regressors that are part of the scikit-learn library and supported in `nums.sklearn`, each with a small selection of hyperparameters. One additional hyperparameter is the lag $p$, interpreted as the number of past days we'd like to consider for predicting some variable of the upcoming day.\n",
    "\n",
    "We use Python's named tuples to take advantange of the keyworded model parameters in the scikit-learn API, resulting in a clean way to iterate over our collection of models that each accept different parameters."
   ]
  },
  {
   "cell_type": "code",
   "execution_count": 13,
   "metadata": {},
   "outputs": [
    {
     "name": "stdout",
     "output_type": "stream",
     "text": [
      "Number of models per station: 100\n"
     ]
    }
   ],
   "source": [
    "from itertools import product\n",
    "from collections import namedtuple\n",
    "from nums.sklearn import (\n",
    "    train_test_split,\n",
    "    ElasticNet,\n",
    "    GradientBoostingRegressor, \n",
    "    RandomForestRegressor, \n",
    "    MLPRegressor, \n",
    "    SVR,\n",
    ")\n",
    "\n",
    "# Set up model selection parameters\n",
    "ElasticNetP = namedtuple(\"ElasticNetP\", \"alpha l1_ratio\")\n",
    "GradientBoostingP = namedtuple(\"GradientBoostingP\", \"learning_rate n_estimators\")\n",
    "RandomForestP = namedtuple(\"RandomForestP\", \"n_estimators\")\n",
    "MLPP = namedtuple(\"MLPP\", \"hidden_layer_sizes\")\n",
    "SVRP = namedtuple(\"SVRP\", \"C epsilon\")\n",
    "\n",
    "Regressors = {\n",
    "    ElasticNet: [ElasticNetP(*t) for t in product([0.2, 1.0], [0.0, 0.5, 1.0])],\n",
    "    GradientBoostingRegressor: [GradientBoostingP(*t) for t in product([0.01, 0.1], [20, 100])],\n",
    "    RandomForestRegressor: [RandomForestP(t) for t in [10, 50, 100]],\n",
    "    MLPRegressor: [MLPP(t) for t in [(50,), (100,), (50, 50)]],\n",
    "    SVR: [SVRP(*t) for t in product([0.2, 1.0], [0.1, 1])],\n",
    "}\n",
    "\n",
    "ps = [5, 10, 20, 50, 100]\n",
    "num_regressors = sum(len(Regressors[k]) for k in Regressors)\n",
    "print(f\"Number of models per station: {num_regressors * len(ps)}\")"
   ]
  },
  {
   "cell_type": "markdown",
   "metadata": {},
   "source": [
    "<a id='5'></a>\n",
    "## 5. Parallel model selection"
   ]
  },
  {
   "cell_type": "markdown",
   "metadata": {},
   "source": [
    "Finally, we're at the main event! We will showcase how the `nums.sklearn` framework can train a large number of models in parallel on a cluster. This is crucial for boosting performance of workloads like model selection and pipelines that have little interdependence.\n",
    "\n",
    "In the nested loops, we execute training and validation with every combination of (p, model, hyperparameters), and the combination with the lowest validation error is selected as the optimal model for that station. Note that we iterate through *p* in the outer loop because the design matrix is recomputed for every p, and we can't shuffle data points until a matrix is generated.\n",
    "\n",
    "On setups with multiple cores, we observe that all the print statement logs below are displayed right away. This is because NumS uses Ray to asynchronously schedule each design matrix construction task (`multivar_ar`) and scikit-learn training task (`fit`/`predict`), with the awareness that the latter must wait for the former to complete. `get` blocks until a result is returned, so to maximize coarse parallelism, we only invoke it after the nested for loops (in `key=lambda...`)."
   ]
  },
  {
   "cell_type": "code",
   "execution_count": 14,
   "metadata": {
    "scrolled": true
   },
   "outputs": [
    {
     "name": "stdout",
     "output_type": "stream",
     "text": [
      "========Training started for USC00040693========\n",
      "====Scheduling training processes with p=5====\n",
      "USC00040693: Validating ElasticNetP(alpha=0.2, l1_ratio=0.0)\tp=5\n",
      "USC00040693: Validating ElasticNetP(alpha=0.2, l1_ratio=0.5)\tp=5\n",
      "USC00040693: Validating ElasticNetP(alpha=0.2, l1_ratio=1.0)\tp=5\n",
      "USC00040693: Validating ElasticNetP(alpha=1.0, l1_ratio=0.0)\tp=5\n",
      "USC00040693: Validating ElasticNetP(alpha=1.0, l1_ratio=0.5)\tp=5\n",
      "USC00040693: Validating ElasticNetP(alpha=1.0, l1_ratio=1.0)\tp=5\n",
      "USC00040693: Validating GradientBoostingP(learning_rate=0.01, n_estimators=20)\tp=5\n",
      "USC00040693: Validating GradientBoostingP(learning_rate=0.01, n_estimators=100)\tp=5\n",
      "USC00040693: Validating GradientBoostingP(learning_rate=0.1, n_estimators=20)\tp=5\n",
      "USC00040693: Validating GradientBoostingP(learning_rate=0.1, n_estimators=100)\tp=5\n",
      "USC00040693: Validating RandomForestP(n_estimators=10)\tp=5\n",
      "USC00040693: Validating RandomForestP(n_estimators=50)\tp=5\n",
      "USC00040693: Validating RandomForestP(n_estimators=100)\tp=5\n",
      "USC00040693: Validating MLPP(hidden_layer_sizes=(50,))\tp=5\n",
      "USC00040693: Validating MLPP(hidden_layer_sizes=(100,))\tp=5\n",
      "USC00040693: Validating MLPP(hidden_layer_sizes=(50, 50))\tp=5\n",
      "USC00040693: Validating SVRP(C=0.2, epsilon=0.1)\tp=5\n",
      "USC00040693: Validating SVRP(C=0.2, epsilon=1)\tp=5\n",
      "USC00040693: Validating SVRP(C=1.0, epsilon=0.1)\tp=5\n",
      "USC00040693: Validating SVRP(C=1.0, epsilon=1)\tp=5\n",
      "====Scheduling training processes with p=10====\n",
      "USC00040693: Validating ElasticNetP(alpha=0.2, l1_ratio=0.0)\tp=10\n",
      "USC00040693: Validating ElasticNetP(alpha=0.2, l1_ratio=0.5)\tp=10\n",
      "USC00040693: Validating ElasticNetP(alpha=0.2, l1_ratio=1.0)\tp=10\n",
      "USC00040693: Validating ElasticNetP(alpha=1.0, l1_ratio=0.0)\tp=10\n",
      "USC00040693: Validating ElasticNetP(alpha=1.0, l1_ratio=0.5)\tp=10\n",
      "USC00040693: Validating ElasticNetP(alpha=1.0, l1_ratio=1.0)\tp=10\n",
      "USC00040693: Validating GradientBoostingP(learning_rate=0.01, n_estimators=20)\tp=10\n",
      "USC00040693: Validating GradientBoostingP(learning_rate=0.01, n_estimators=100)\tp=10\n",
      "USC00040693: Validating GradientBoostingP(learning_rate=0.1, n_estimators=20)\tp=10\n",
      "USC00040693: Validating GradientBoostingP(learning_rate=0.1, n_estimators=100)\tp=10\n",
      "USC00040693: Validating RandomForestP(n_estimators=10)\tp=10\n",
      "USC00040693: Validating RandomForestP(n_estimators=50)\tp=10\n",
      "USC00040693: Validating RandomForestP(n_estimators=100)\tp=10\n",
      "USC00040693: Validating MLPP(hidden_layer_sizes=(50,))\tp=10\n",
      "USC00040693: Validating MLPP(hidden_layer_sizes=(100,))\tp=10\n",
      "USC00040693: Validating MLPP(hidden_layer_sizes=(50, 50))\tp=10\n",
      "USC00040693: Validating SVRP(C=0.2, epsilon=0.1)\tp=10\n",
      "USC00040693: Validating SVRP(C=0.2, epsilon=1)\tp=10\n",
      "USC00040693: Validating SVRP(C=1.0, epsilon=0.1)\tp=10\n",
      "USC00040693: Validating SVRP(C=1.0, epsilon=1)\tp=10\n",
      "====Scheduling training processes with p=20====\n",
      "USC00040693: Validating ElasticNetP(alpha=0.2, l1_ratio=0.0)\tp=20\n",
      "USC00040693: Validating ElasticNetP(alpha=0.2, l1_ratio=0.5)\tp=20\n",
      "USC00040693: Validating ElasticNetP(alpha=0.2, l1_ratio=1.0)\tp=20\n",
      "USC00040693: Validating ElasticNetP(alpha=1.0, l1_ratio=0.0)\tp=20\n",
      "USC00040693: Validating ElasticNetP(alpha=1.0, l1_ratio=0.5)\tp=20\n",
      "USC00040693: Validating ElasticNetP(alpha=1.0, l1_ratio=1.0)\tp=20\n",
      "USC00040693: Validating GradientBoostingP(learning_rate=0.01, n_estimators=20)\tp=20\n",
      "USC00040693: Validating GradientBoostingP(learning_rate=0.01, n_estimators=100)\tp=20\n",
      "USC00040693: Validating GradientBoostingP(learning_rate=0.1, n_estimators=20)\tp=20\n",
      "USC00040693: Validating GradientBoostingP(learning_rate=0.1, n_estimators=100)\tp=20\n",
      "USC00040693: Validating RandomForestP(n_estimators=10)\tp=20\n",
      "USC00040693: Validating RandomForestP(n_estimators=50)\tp=20\n",
      "USC00040693: Validating RandomForestP(n_estimators=100)\tp=20\n",
      "USC00040693: Validating MLPP(hidden_layer_sizes=(50,))\tp=20\n",
      "USC00040693: Validating MLPP(hidden_layer_sizes=(100,))\tp=20\n",
      "USC00040693: Validating MLPP(hidden_layer_sizes=(50, 50))\tp=20\n",
      "USC00040693: Validating SVRP(C=0.2, epsilon=0.1)\tp=20\n",
      "USC00040693: Validating SVRP(C=0.2, epsilon=1)\tp=20\n",
      "USC00040693: Validating SVRP(C=1.0, epsilon=0.1)\tp=20\n",
      "USC00040693: Validating SVRP(C=1.0, epsilon=1)\tp=20\n",
      "====Scheduling training processes with p=50====\n",
      "USC00040693: Validating ElasticNetP(alpha=0.2, l1_ratio=0.0)\tp=50\n",
      "USC00040693: Validating ElasticNetP(alpha=0.2, l1_ratio=0.5)\tp=50\n",
      "USC00040693: Validating ElasticNetP(alpha=0.2, l1_ratio=1.0)\tp=50\n",
      "USC00040693: Validating ElasticNetP(alpha=1.0, l1_ratio=0.0)\tp=50\n",
      "USC00040693: Validating ElasticNetP(alpha=1.0, l1_ratio=0.5)\tp=50\n",
      "USC00040693: Validating ElasticNetP(alpha=1.0, l1_ratio=1.0)\tp=50\n",
      "USC00040693: Validating GradientBoostingP(learning_rate=0.01, n_estimators=20)\tp=50\n",
      "USC00040693: Validating GradientBoostingP(learning_rate=0.01, n_estimators=100)\tp=50\n",
      "USC00040693: Validating GradientBoostingP(learning_rate=0.1, n_estimators=20)\tp=50\n",
      "USC00040693: Validating GradientBoostingP(learning_rate=0.1, n_estimators=100)\tp=50\n",
      "USC00040693: Validating RandomForestP(n_estimators=10)\tp=50\n",
      "USC00040693: Validating RandomForestP(n_estimators=50)\tp=50\n",
      "USC00040693: Validating RandomForestP(n_estimators=100)\tp=50\n",
      "USC00040693: Validating MLPP(hidden_layer_sizes=(50,))\tp=50\n",
      "USC00040693: Validating MLPP(hidden_layer_sizes=(100,))\tp=50\n",
      "USC00040693: Validating MLPP(hidden_layer_sizes=(50, 50))\tp=50\n",
      "USC00040693: Validating SVRP(C=0.2, epsilon=0.1)\tp=50\n",
      "USC00040693: Validating SVRP(C=0.2, epsilon=1)\tp=50\n",
      "USC00040693: Validating SVRP(C=1.0, epsilon=0.1)\tp=50\n",
      "USC00040693: Validating SVRP(C=1.0, epsilon=1)\tp=50\n",
      "====Scheduling training processes with p=100====\n",
      "USC00040693: Validating ElasticNetP(alpha=0.2, l1_ratio=0.0)\tp=100\n",
      "USC00040693: Validating ElasticNetP(alpha=0.2, l1_ratio=0.5)\tp=100\n",
      "USC00040693: Validating ElasticNetP(alpha=0.2, l1_ratio=1.0)\tp=100\n",
      "USC00040693: Validating ElasticNetP(alpha=1.0, l1_ratio=0.0)\tp=100\n",
      "USC00040693: Validating ElasticNetP(alpha=1.0, l1_ratio=0.5)\tp=100\n",
      "USC00040693: Validating ElasticNetP(alpha=1.0, l1_ratio=1.0)\tp=100\n",
      "USC00040693: Validating GradientBoostingP(learning_rate=0.01, n_estimators=20)\tp=100\n",
      "USC00040693: Validating GradientBoostingP(learning_rate=0.01, n_estimators=100)\tp=100\n",
      "USC00040693: Validating GradientBoostingP(learning_rate=0.1, n_estimators=20)\tp=100\n",
      "USC00040693: Validating GradientBoostingP(learning_rate=0.1, n_estimators=100)\tp=100\n",
      "USC00040693: Validating RandomForestP(n_estimators=10)\tp=100\n",
      "USC00040693: Validating RandomForestP(n_estimators=50)\tp=100\n",
      "USC00040693: Validating RandomForestP(n_estimators=100)\tp=100\n",
      "USC00040693: Validating MLPP(hidden_layer_sizes=(50,))\tp=100\n",
      "USC00040693: Validating MLPP(hidden_layer_sizes=(100,))\tp=100\n",
      "USC00040693: Validating MLPP(hidden_layer_sizes=(50, 50))\tp=100\n",
      "USC00040693: Validating SVRP(C=0.2, epsilon=0.1)\tp=100\n",
      "USC00040693: Validating SVRP(C=0.2, epsilon=1)\tp=100\n",
      "USC00040693: Validating SVRP(C=1.0, epsilon=0.1)\tp=100\n",
      "USC00040693: Validating SVRP(C=1.0, epsilon=1)\tp=100\n",
      "========Training ended for USC00040693========\n",
      "Total training time for USC00040693: 380.395747423172\n",
      "{'USC00040693': (100, <class 'nums.sklearn.build_sklearn_actor.<locals>.NumsModel'>, GradientBoostingP(learning_rate=0.1, n_estimators=100))}\n"
     ]
    }
   ],
   "source": [
    "from math import floor\n",
    "import time\n",
    "\n",
    "optimal_params = {}\n",
    "validation_errors = {}\n",
    "\n",
    "for station_id, tseries in station_tseries.items():\n",
    "    # Split based on day \n",
    "    days_split = floor(0.8 * tseries.shape[0])\n",
    "    \n",
    "    validation_error = {}\n",
    "    \n",
    "    print(f\"========Training started for {station_id}========\")\n",
    "    start_time = time.time()\n",
    "    for p in ps:\n",
    "        print(f\"====Scheduling training processes with p={p}====\")\n",
    "        X_train, y_train = multivar_ar((0, days_split), tseries, p)\n",
    "        X_t, X_v, y_t, y_v = train_test_split(X_train, y_train, test_size=0.2) # Validation split\n",
    "        \n",
    "        for Regressor in list(Regressors.keys()):\n",
    "            for model_params in Regressors[Regressor]:\n",
    "                model = Regressor(**model_params._asdict())\n",
    "                model.fit(X_t, y_t)\n",
    "                y_pred = model.predict(X_v)\n",
    "                v_err = rmse(y_v, y_pred)\n",
    "                validation_error[(p, Regressor, model_params)] = v_err\n",
    "                print(f\"{station_id}: Validating {model_params}\\tp={p}\")\n",
    "\n",
    "    optimal_params[station_id] = min(validation_error, key=lambda x: validation_error[x].get())\n",
    "    validation_errors[station_id] = validation_error\n",
    "    print(f\"========Training ended for {station_id}========\")\n",
    "    print(f\"Total training time for {station_id}: {time.time() - start_time}\")\n",
    "\n",
    "print(optimal_params)"
   ]
  },
  {
   "cell_type": "markdown",
   "metadata": {},
   "source": [
    "On the author's setup, training each of the 100 models sequentially took 4346 seconds (about 1.2 hours), whereas it took <400 seconds (about 6.5 minutes) with the coarse parallelism enabled by `nums.sklearn`. In general, we expect significant performance boosts on any multicore system.\n",
    "\n",
    "For the sake of completion, let us examine the results for one station, USC00040693 (can you guess which city?). We'll plot the predicted temperatures versus actual recorded temperatures for our testing year ranges."
   ]
  },
  {
   "cell_type": "code",
   "execution_count": 15,
   "metadata": {},
   "outputs": [
    {
     "name": "stdout",
     "output_type": "stream",
     "text": [
      "========Testing started for USC00040693========\n",
      "USC00040693: Tested GradientBoostingP(learning_rate=0.1, n_estimators=100)\tp=100\tscore=24.84468961820531\n",
      "findfont: Matching sans\\-serif:style=normal:variant=normal:weight=normal:stretch=normal:size=10.0.\n",
      "findfont: score(<Font 'DejaVu Sans Display' (DejaVuSansDisplay.ttf) normal normal 400 normal>) = 10.05\n",
      "findfont: score(<Font 'DejaVu Sans' (DejaVuSans.ttf) normal normal 400 normal>) = 0.05\n",
      "findfont: score(<Font 'STIXSizeTwoSym' (STIXSizTwoSymBol.ttf) normal normal 700 normal>) = 10.335\n",
      "findfont: score(<Font 'STIXSizeFiveSym' (STIXSizFiveSymReg.ttf) normal normal 400 normal>) = 10.05\n",
      "findfont: score(<Font 'DejaVu Sans Mono' (DejaVuSansMono-BoldOblique.ttf) oblique normal 700 normal>) = 11.335\n",
      "findfont: score(<Font 'DejaVu Serif' (DejaVuSerif-Bold.ttf) normal normal 700 normal>) = 10.335\n",
      "findfont: score(<Font 'STIXNonUnicode' (STIXNonUniBolIta.ttf) italic normal 700 normal>) = 11.335\n",
      "findfont: score(<Font 'DejaVu Sans' (DejaVuSans-BoldOblique.ttf) oblique normal 700 normal>) = 1.335\n",
      "findfont: score(<Font 'STIXSizeOneSym' (STIXSizOneSymBol.ttf) normal normal 700 normal>) = 10.335\n",
      "findfont: score(<Font 'DejaVu Sans' (DejaVuSans-Oblique.ttf) oblique normal 400 normal>) = 1.05\n",
      "findfont: score(<Font 'STIXSizeThreeSym' (STIXSizThreeSymBol.ttf) normal normal 700 normal>) = 10.335\n",
      "findfont: score(<Font 'DejaVu Sans Mono' (DejaVuSansMono-Oblique.ttf) oblique normal 400 normal>) = 11.05\n",
      "findfont: score(<Font 'STIXSizeFourSym' (STIXSizFourSymReg.ttf) normal normal 400 normal>) = 10.05\n",
      "findfont: score(<Font 'DejaVu Sans Mono' (DejaVuSansMono-Bold.ttf) normal normal 700 normal>) = 10.335\n",
      "findfont: score(<Font 'DejaVu Serif' (DejaVuSerif-Italic.ttf) italic normal 400 normal>) = 11.05\n",
      "findfont: score(<Font 'STIXNonUnicode' (STIXNonUniBol.ttf) normal normal 700 normal>) = 10.335\n",
      "findfont: score(<Font 'STIXSizeTwoSym' (STIXSizTwoSymReg.ttf) normal normal 400 normal>) = 10.05\n",
      "findfont: score(<Font 'cmsy10' (cmsy10.ttf) normal normal 400 normal>) = 10.05\n",
      "findfont: score(<Font 'cmr10' (cmr10.ttf) normal normal 400 normal>) = 10.05\n",
      "findfont: score(<Font 'STIXGeneral' (STIXGeneralBolIta.ttf) italic normal 700 normal>) = 11.335\n",
      "findfont: score(<Font 'cmex10' (cmex10.ttf) normal normal 400 normal>) = 10.05\n",
      "findfont: score(<Font 'STIXSizeFourSym' (STIXSizFourSymBol.ttf) normal normal 700 normal>) = 10.335\n",
      "findfont: score(<Font 'cmmi10' (cmmi10.ttf) normal normal 400 normal>) = 10.05\n",
      "findfont: score(<Font 'STIXGeneral' (STIXGeneral.ttf) normal normal 400 normal>) = 10.05\n",
      "findfont: score(<Font 'STIXGeneral' (STIXGeneralBol.ttf) normal normal 700 normal>) = 10.335\n",
      "findfont: score(<Font 'STIXNonUnicode' (STIXNonUniIta.ttf) italic normal 400 normal>) = 11.05\n",
      "findfont: score(<Font 'cmtt10' (cmtt10.ttf) normal normal 400 normal>) = 10.05\n",
      "findfont: score(<Font 'DejaVu Sans Mono' (DejaVuSansMono.ttf) normal normal 400 normal>) = 10.05\n",
      "findfont: score(<Font 'DejaVu Serif Display' (DejaVuSerifDisplay.ttf) normal normal 400 normal>) = 10.05\n",
      "findfont: score(<Font 'DejaVu Serif' (DejaVuSerif.ttf) normal normal 400 normal>) = 10.05\n",
      "findfont: score(<Font 'STIXNonUnicode' (STIXNonUni.ttf) normal normal 400 normal>) = 10.05\n",
      "findfont: score(<Font 'STIXGeneral' (STIXGeneralItalic.ttf) italic normal 400 normal>) = 11.05\n",
      "findfont: score(<Font 'STIXSizeOneSym' (STIXSizOneSymReg.ttf) normal normal 400 normal>) = 10.05\n",
      "findfont: score(<Font 'cmb10' (cmb10.ttf) normal normal 400 normal>) = 10.05\n",
      "findfont: score(<Font 'cmss10' (cmss10.ttf) normal normal 400 normal>) = 10.05\n",
      "findfont: score(<Font 'DejaVu Sans' (DejaVuSans-Bold.ttf) normal normal 700 normal>) = 0.33499999999999996\n",
      "findfont: score(<Font 'STIXSizeThreeSym' (STIXSizThreeSymReg.ttf) normal normal 400 normal>) = 10.05\n",
      "findfont: score(<Font 'DejaVu Serif' (DejaVuSerif-BoldItalic.ttf) italic normal 700 normal>) = 11.335\n",
      "findfont: score(<Font 'DejaVu Sans' (DejaVuSans-Oblique.ttf) oblique normal 400 normal>) = 1.05\n",
      "findfont: score(<Font 'DejaVu Sans' (DejaVuSans-Bold.ttf) normal normal 700 normal>) = 0.33499999999999996\n",
      "findfont: score(<Font 'DejaVu Sans' (DejaVuSansCondensed.ttf) normal normal 400 condensed>) = 0.25\n",
      "findfont: score(<Font 'DejaVu Sans Mono' (DejaVuSansMono-BoldOblique.ttf) oblique normal 700 normal>) = 11.335\n",
      "findfont: score(<Font 'Noto Mono' (NotoMono-Regular.ttf) normal normal 400 normal>) = 10.05\n",
      "findfont: score(<Font 'Liberation Sans Narrow' (LiberationSansNarrow-BoldItalic.ttf) italic normal 700 condensed>) = 11.535\n",
      "findfont: score(<Font 'DejaVu Serif' (DejaVuSerifCondensed.ttf) normal normal 400 condensed>) = 10.25\n",
      "findfont: score(<Font 'DejaVu Sans' (DejaVuSans-BoldOblique.ttf) oblique normal 700 normal>) = 1.335\n",
      "findfont: score(<Font 'Liberation Sans Narrow' (LiberationSansNarrow-Regular.ttf) normal normal 400 condensed>) = 10.25\n",
      "findfont: score(<Font 'Liberation Serif' (LiberationSerif-Italic.ttf) italic normal 400 normal>) = 11.05\n",
      "findfont: score(<Font 'DejaVu Serif' (DejaVuSerif-Bold.ttf) normal normal 700 normal>) = 10.335\n",
      "findfont: score(<Font 'DejaVu Serif' (DejaVuSerif.ttf) normal normal 400 normal>) = 10.05\n",
      "findfont: score(<Font 'Liberation Serif' (LiberationSerif-Regular.ttf) normal normal 400 normal>) = 10.05\n",
      "findfont: score(<Font 'DejaVu Sans' (DejaVuSans-ExtraLight.ttf) normal normal 200 normal>) = 0.24\n",
      "findfont: score(<Font 'Liberation Serif' (LiberationSerif-Bold.ttf) normal normal 700 normal>) = 10.335\n",
      "findfont: score(<Font 'DejaVu Serif' (DejaVuSerifCondensed-BoldItalic.ttf) italic normal 700 condensed>) = 11.535\n",
      "findfont: score(<Font 'Liberation Mono' (LiberationMono-Italic.ttf) italic normal 400 normal>) = 11.05\n",
      "findfont: score(<Font 'DejaVu Sans' (DejaVuSansCondensed-Oblique.ttf) oblique normal 400 condensed>) = 1.25\n",
      "findfont: score(<Font 'DejaVu Sans Mono' (DejaVuSansMono-Oblique.ttf) oblique normal 400 normal>) = 11.05\n",
      "findfont: score(<Font 'Liberation Sans' (LiberationSans-BoldItalic.ttf) italic normal 700 normal>) = 11.335\n",
      "findfont: score(<Font 'DejaVu Serif' (DejaVuSerifCondensed-Bold.ttf) normal normal 700 condensed>) = 10.535\n",
      "findfont: score(<Font 'DejaVu Sans Mono' (DejaVuSansMono.ttf) normal normal 400 normal>) = 10.05\n",
      "findfont: score(<Font 'DejaVu Serif' (DejaVuSerif-Italic.ttf) italic normal 400 normal>) = 11.05\n",
      "findfont: score(<Font 'Liberation Sans' (LiberationSans-Bold.ttf) normal normal 700 normal>) = 10.335\n",
      "findfont: score(<Font 'DejaVu Serif' (DejaVuSerif-BoldItalic.ttf) italic normal 700 normal>) = 11.335\n",
      "findfont: score(<Font 'Liberation Mono' (LiberationMono-Regular.ttf) normal normal 400 normal>) = 10.05\n",
      "findfont: score(<Font 'DejaVu Sans Mono' (DejaVuSansMono-Bold.ttf) normal normal 700 normal>) = 10.335\n",
      "findfont: score(<Font 'Liberation Sans Narrow' (LiberationSansNarrow-Bold.ttf) normal normal 700 condensed>) = 10.535\n",
      "findfont: score(<Font 'Droid Sans Fallback' (DroidSansFallbackFull.ttf) normal normal 400 normal>) = 10.05\n",
      "findfont: score(<Font 'Liberation Serif' (LiberationSerif-BoldItalic.ttf) italic normal 700 normal>) = 11.335\n",
      "findfont: score(<Font 'Liberation Sans Narrow' (LiberationSansNarrow-Italic.ttf) italic normal 400 condensed>) = 11.25\n",
      "findfont: score(<Font 'DejaVu Sans' (DejaVuSansCondensed-Bold.ttf) normal normal 700 condensed>) = 0.5349999999999999\n",
      "findfont: score(<Font 'Liberation Sans' (LiberationSans-Regular.ttf) normal normal 400 normal>) = 10.05\n",
      "findfont: score(<Font 'DejaVu Sans' (DejaVuSansCondensed-BoldOblique.ttf) oblique normal 700 condensed>) = 1.535\n",
      "findfont: score(<Font 'Liberation Mono' (LiberationMono-Bold.ttf) normal normal 700 normal>) = 10.335\n",
      "findfont: score(<Font 'DejaVu Sans' (DejaVuSans.ttf) normal normal 400 normal>) = 0.05\n",
      "findfont: score(<Font 'DejaVu Math TeX Gyre' (DejaVuMathTeXGyre.ttf) normal normal 400 normal>) = 10.05\n",
      "findfont: score(<Font 'DejaVu Serif' (DejaVuSerifCondensed-Italic.ttf) italic normal 400 condensed>) = 11.25\n",
      "findfont: score(<Font 'Liberation Sans' (LiberationSans-Italic.ttf) italic normal 400 normal>) = 11.05\n",
      "findfont: score(<Font 'Liberation Mono' (LiberationMono-BoldItalic.ttf) italic normal 700 normal>) = 11.335\n",
      "findfont: Matching sans\\-serif:style=normal:variant=normal:weight=normal:stretch=normal:size=10.0 to DejaVu Sans ('/home/ubuntu/anaconda3/envs/aws-asdi/lib/python3.7/site-packages/matplotlib/mpl-data/fonts/ttf/DejaVuSans.ttf') with score of 0.050000.\n"
     ]
    },
    {
     "data": {
      "image/png": "[encoded data removed]",
      "text/plain": [
       "<Figure size 1080x360 with 1 Axes>"
      ]
     },
     "metadata": {
      "needs_background": "light"
     },
     "output_type": "display_data"
    },
    {
     "name": "stdout",
     "output_type": "stream",
     "text": [
      "CPU times: user 4.94 s, sys: 527 ms, total: 5.47 s\n",
      "Wall time: 1min 45s\n"
     ]
    }
   ],
   "source": [
    "%%time\n",
    "\n",
    "test_scores = {}\n",
    "\n",
    "station_id = \"USC00040693\"\n",
    "tseries = station_tseries[station_id]\n",
    "\n",
    "days_split = floor(0.8 * tseries.shape[0])\n",
    "\n",
    "p, Regressor, model_params = optimal_params[station_id]\n",
    "    \n",
    "print(f\"========Testing started for {station_id}========\")\n",
    "X_train, y_train = multivar_ar((0, days_split), tseries, p)\n",
    "X_test, y_test = multivar_ar((days_split, None), tseries, p)\n",
    "model = Regressor(**model_params._asdict())\n",
    "model.fit(X_train.to_single_block(), y_train.to_single_block())\n",
    "y_pred = model.predict(X_test.to_single_block())\n",
    "t_err = rmse(y_test, y_pred)\n",
    "test_scores[station_id] = t_err\n",
    "print(f\"{station_id}: Tested {model_params}\\tp={p}\\tscore={t_err.get()}\")\n",
    "\n",
    "plt.figure(figsize=(15, 5))\n",
    "plt.plot(np.arange(y_test.size), (y_test.get() / 10), label=\"y_test\")\n",
    "plt.plot(np.arange(y_pred.size), (y_pred.get() / 10), label=\"y_pred\")\n",
    "plt.xlabel(f\"Days since start\")\n",
    "plt.ylabel(\"Degrees Celcius\")\n",
    "plt.legend()\n",
    "plt.show()"
   ]
  },
  {
   "cell_type": "markdown",
   "metadata": {},
   "source": [
    "Because we only train and test a single model here, we don't observe the massive performance improvements from model selection."
   ]
  },
  {
   "cell_type": "code",
   "execution_count": null,
   "metadata": {},
   "outputs": [],
   "source": []
  }
 ],
 "metadata": {
  "kernelspec": {
   "display_name": "Python 3 (ipykernel)",
   "language": "python",
   "name": "python3"
  },
  "language_info": {
   "codemirror_mode": {
    "name": "ipython",
    "version": 3
   },
   "file_extension": ".py",
   "mimetype": "text/x-python",
   "name": "python",
   "nbconvert_exporter": "python",
   "pygments_lexer": "ipython3",
   "version": "3.7.11"
  }
 },
 "nbformat": 4,
 "nbformat_minor": 2
}
