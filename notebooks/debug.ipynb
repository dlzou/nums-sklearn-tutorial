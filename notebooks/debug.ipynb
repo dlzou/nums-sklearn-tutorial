{
 "cells": [
  {
   "cell_type": "code",
   "execution_count": 1,
   "id": "e0f87dc4",
   "metadata": {},
   "outputs": [],
   "source": [
    "import numpy as np\n",
    "import pandas\n",
    "# import matplotlib.pyplot as plt\n",
    "import os\n",
    "import ray\n",
    "from modin import pandas as pd\n",
    "from nums import numpy as nps\n",
    "from nums.core import settings\n",
    "import nums\n",
    "import boto3\n",
    "# from tqdm import tqdm"
   ]
  },
  {
   "cell_type": "code",
   "execution_count": 2,
   "id": "946033fd",
   "metadata": {},
   "outputs": [
    {
     "name": "stdout",
     "output_type": "stream",
     "text": [
      "(1, 1)\n",
      "Using driver node ip as head node.\n",
      "head node 10.0.0.198\n",
      "total cpus 64.0\n",
      "device_grid (0, 0) 0=node:10.0.0.198/cpu:1\n"
     ]
    }
   ],
   "source": [
    "# Cluster settings\n",
    "os.environ[\"RAY_IGNORE_UNHANDLED_ERRORS\"] = \"0\"\n",
    "# ray.init(ignore_reinit_error=True, address=\"auto\") # On cluster\n",
    "ray.init() # On local machine\n",
    "if len(ray.nodes()) > 1:\n",
    "    settings.cluster_shape = (len(ray.nodes()) - 1, 1)\n",
    "print(settings.cluster_shape)\n",
    "nums.init()"
   ]
  },
  {
   "cell_type": "raw",
   "id": "846a062d",
   "metadata": {},
   "source": [
    "from itertools import product\n",
    "from collections import namedtuple\n",
    "from math import floor\n",
    "from nums.sklearn import (\n",
    "    train_test_split,\n",
    "    ElasticNet,\n",
    "    GradientBoostingRegressor, \n",
    "    RandomForestRegressor, \n",
    "    MLPRegressor, \n",
    "    SVR,\n",
    ")\n",
    "\n",
    "ElasticNetP = namedtuple(\"ElasticNetP\", \"alpha l1_ratio\")\n",
    "GradientBoostingP = namedtuple(\"GradientBoostingP\", \"learning_rate n_estimators\")\n",
    "RandomForestP = namedtuple(\"RandomForestP\", \"n_estimators\")\n",
    "MLPP = namedtuple(\"MLPP\", \"hidden_layer_sizes\")\n",
    "SVRP = namedtuple(\"SVRP\", \"C epsilon\")\n",
    "\n",
    "# Regressors = {\n",
    "#     ElasticNet: [ElasticNetP(*t) for t in product([0.2, 1.0], [0.0, 0.5, 1.0])],\n",
    "#     GradientBoostingRegressor: [GradientBoostingP(*t) for t in product([0.01, 0.1], [20, 100])],\n",
    "#     RandomForestRegressor: [RandomForestP(t) for t in [10, 50, 100]],\n",
    "#     MLPRegressor: [MLPP(t) for t in [(50,), (100,), (50, 50)]],\n",
    "#     SVR: [SVRP(*t) for t in product([0.2, 1.0], [0.1, 1])],\n",
    "# }\n",
    "\n",
    "Regressors = {\n",
    "    ElasticNet: [ElasticNetP(*t) for t in product([0.2], [0.0])],\n",
    "    RandomForestRegressor: [RandomForestP(t) for t in [10]],\n",
    "}"
   ]
  },
  {
   "cell_type": "markdown",
   "id": "b219e14a",
   "metadata": {},
   "source": [
    "### Reproduce float get error (resolved)"
   ]
  },
  {
   "cell_type": "raw",
   "id": "910cd686",
   "metadata": {},
   "source": [
    "melih_size = 1\n",
    "print(\"===start randn, to_single_block===\")\n",
    "# X_melih, y_melih = nps.random.randn(melih_size, melih_size).to_single_block(), nps.random.randint(2, size=melih_size)\n",
    "# X_melih, y_melih = nps.random.randn(melih_size, 10), nps.random.randint(2, size=melih_size)\n",
    "\n",
    "X, y = nps.random.randn(melih_size, melih_size), nps.random.randint(2, size=melih_size)\n",
    "print(f\"X.shape={X.shape}\\nX.grid_shape={X.grid_shape}\")\n",
    "print(f\"y.shape={y.shape}\\ny.grid_shape={y.grid_shape}\")\n",
    "\n",
    "# print(\"===start train_test_split===\")\n",
    "# X_t, X_v, y_t, y_v = train_test_split(X, y, test_size=0.2)\n",
    "# print(f\"X_t.shape={X_t.shape}\\nX_t.grid_shape={X_t.grid_shape}\")\n",
    "# print(f\"y_t.shape={y_t.shape}\\ny_t.grid_shape={y_t.grid_shape}\")\n",
    "\n",
    "\n",
    "print(\"===start training===\")\n",
    "for Regressor in list(Regressors.keys()):\n",
    "    for model_params in Regressors[Regressor]:\n",
    "        print(f\"train {model_params}\")\n",
    "        model = Regressor(**model_params._asdict())\n",
    "        model.fit(X, y)\n",
    "        print(model.score(X, y).get())"
   ]
  },
  {
   "cell_type": "markdown",
   "id": "6042c387",
   "metadata": {},
   "source": [
    "### from_modin AssertionError for small dataframes (resolved)"
   ]
  },
  {
   "cell_type": "raw",
   "id": "90fbbc4f",
   "metadata": {
    "collapsed": true
   },
   "source": [
    "from nums import from_modin\n",
    "\n",
    "# When not enough df rows (<=32?), modin grid only contains 1 row, and nps.concatenate requires >1 row\n",
    "# check np.concatenate\n",
    "# optimize slicing\n",
    "# driver profiling: cprofiler\n",
    "# ray profiler\n",
    "df = pd.DataFrame(data={\"A\": np.arange(30), \"B\": np.arange(30), \"C\": np.arange(30)})\n",
    "arr = from_modin(df)\n",
    "arr.get()"
   ]
  },
  {
   "cell_type": "markdown",
   "id": "0b98b1f5",
   "metadata": {},
   "source": [
    "### NotFittedError: ElasticNet instance has not been fitted"
   ]
  },
  {
   "cell_type": "code",
   "execution_count": 3,
   "id": "5871dc3d",
   "metadata": {},
   "outputs": [
    {
     "ename": "RayTaskError(NotFittedError)",
     "evalue": "\u001b[36mray::ModelActor.predict()\u001b[39m (pid=54907, ip=10.0.0.198, repr=<nums.sklearn.ElasticNetActor object at 0x7ff094d4a990>)\n  File \"/home/ubuntu/anaconda3/envs/aws-asdi/lib/python3.7/site-packages/nums/sklearn.py\", line 165, in predict\n    return self.instance.predict(X)\n  File \"/home/ubuntu/anaconda3/envs/aws-asdi/lib/python3.7/site-packages/sklearn/linear_model/_base.py\", line 238, in predict\n    return self._decision_function(X)\n  File \"/home/ubuntu/anaconda3/envs/aws-asdi/lib/python3.7/site-packages/sklearn/linear_model/_coordinate_descent.py\", line 893, in _decision_function\n    check_is_fitted(self)\n  File \"/home/ubuntu/anaconda3/envs/aws-asdi/lib/python3.7/site-packages/sklearn/utils/validation.py\", line 63, in inner_f\n    return f(*args, **kwargs)\n  File \"/home/ubuntu/anaconda3/envs/aws-asdi/lib/python3.7/site-packages/sklearn/utils/validation.py\", line 1041, in check_is_fitted\n    raise NotFittedError(msg % {'name': type(estimator).__name__})\nsklearn.exceptions.NotFittedError: This ElasticNet instance is not fitted yet. Call 'fit' with appropriate arguments before using this estimator.",
     "output_type": "error",
     "traceback": [
      "\u001b[0;31m---------------------------------------------------------------------------\u001b[0m",
      "\u001b[0;31mRayTaskError(NotFittedError)\u001b[0m              Traceback (most recent call last)",
      "\u001b[0;32m/tmp/ipykernel_54680/2521291296.py\u001b[0m in \u001b[0;36m<module>\u001b[0;34m\u001b[0m\n\u001b[1;32m     23\u001b[0m \u001b[0;31m# instance().cm.call_actor_method(model.actor, \"fit\", X.flattened_oids()[0], y.flattened_oids()[0])\u001b[0m\u001b[0;34m\u001b[0m\u001b[0;34m\u001b[0m\u001b[0;34m\u001b[0m\u001b[0m\n\u001b[1;32m     24\u001b[0m \u001b[0;34m\u001b[0m\u001b[0m\n\u001b[0;32m---> 25\u001b[0;31m \u001b[0mmodel\u001b[0m\u001b[0;34m.\u001b[0m\u001b[0mpredict\u001b[0m\u001b[0;34m(\u001b[0m\u001b[0mX\u001b[0m\u001b[0;34m[\u001b[0m\u001b[0;36m0\u001b[0m\u001b[0;34m:\u001b[0m\u001b[0;36m2\u001b[0m\u001b[0;34m]\u001b[0m\u001b[0;34m)\u001b[0m\u001b[0;34m.\u001b[0m\u001b[0mget\u001b[0m\u001b[0;34m(\u001b[0m\u001b[0;34m)\u001b[0m \u001b[0;31m# Throws NotFittedError with no indication of NaN anywhere\u001b[0m\u001b[0;34m\u001b[0m\u001b[0;34m\u001b[0m\u001b[0m\n\u001b[0m\u001b[1;32m     26\u001b[0m \u001b[0;31m# Reproduced in scripts/script_sklearn.py\u001b[0m\u001b[0;34m\u001b[0m\u001b[0;34m\u001b[0m\u001b[0;34m\u001b[0m\u001b[0m\n\u001b[1;32m     27\u001b[0m \u001b[0;31m# Seems like ray.get() only raises the last error encountered\u001b[0m\u001b[0;34m\u001b[0m\u001b[0;34m\u001b[0m\u001b[0;34m\u001b[0m\u001b[0m\n",
      "\u001b[0;32m~/anaconda3/envs/aws-asdi/lib/python3.7/site-packages/nums/core/array/base.py\u001b[0m in \u001b[0;36mget\u001b[0;34m(self)\u001b[0m\n\u001b[1;32m    360\u001b[0m             [\n\u001b[1;32m    361\u001b[0m                 \u001b[0mself\u001b[0m\u001b[0;34m.\u001b[0m\u001b[0mblocks\u001b[0m\u001b[0;34m[\u001b[0m\u001b[0mgrid_entry\u001b[0m\u001b[0;34m]\u001b[0m\u001b[0;34m.\u001b[0m\u001b[0moid\u001b[0m\u001b[0;34m\u001b[0m\u001b[0;34m\u001b[0m\u001b[0m\n\u001b[0;32m--> 362\u001b[0;31m                 \u001b[0;32mfor\u001b[0m \u001b[0mgrid_entry\u001b[0m \u001b[0;32min\u001b[0m \u001b[0mself\u001b[0m\u001b[0;34m.\u001b[0m\u001b[0mgrid\u001b[0m\u001b[0;34m.\u001b[0m\u001b[0mget_entry_iterator\u001b[0m\u001b[0;34m(\u001b[0m\u001b[0;34m)\u001b[0m\u001b[0;34m\u001b[0m\u001b[0;34m\u001b[0m\u001b[0m\n\u001b[0m\u001b[1;32m    363\u001b[0m             ]\n\u001b[1;32m    364\u001b[0m         )\n",
      "\u001b[0;32m~/anaconda3/envs/aws-asdi/lib/python3.7/site-packages/nums/core/compute/compute_manager.py\u001b[0m in \u001b[0;36mget\u001b[0;34m(self, object_ids)\u001b[0m\n\u001b[1;32m    125\u001b[0m \u001b[0;34m\u001b[0m\u001b[0m\n\u001b[1;32m    126\u001b[0m     \u001b[0;32mdef\u001b[0m \u001b[0mget\u001b[0m\u001b[0;34m(\u001b[0m\u001b[0mself\u001b[0m\u001b[0;34m,\u001b[0m \u001b[0mobject_ids\u001b[0m\u001b[0;34m:\u001b[0m \u001b[0mUnion\u001b[0m\u001b[0;34m[\u001b[0m\u001b[0mAny\u001b[0m\u001b[0;34m,\u001b[0m \u001b[0mList\u001b[0m\u001b[0;34m]\u001b[0m\u001b[0;34m)\u001b[0m\u001b[0;34m:\u001b[0m\u001b[0;34m\u001b[0m\u001b[0;34m\u001b[0m\u001b[0m\n\u001b[0;32m--> 127\u001b[0;31m         \u001b[0;32mreturn\u001b[0m \u001b[0mself\u001b[0m\u001b[0;34m.\u001b[0m\u001b[0msystem\u001b[0m\u001b[0;34m.\u001b[0m\u001b[0mget\u001b[0m\u001b[0;34m(\u001b[0m\u001b[0mobject_ids\u001b[0m\u001b[0;34m)\u001b[0m\u001b[0;34m\u001b[0m\u001b[0;34m\u001b[0m\u001b[0m\n\u001b[0m\u001b[1;32m    128\u001b[0m \u001b[0;34m\u001b[0m\u001b[0m\n\u001b[1;32m    129\u001b[0m     \u001b[0;32mdef\u001b[0m \u001b[0mremote\u001b[0m\u001b[0;34m(\u001b[0m\u001b[0mself\u001b[0m\u001b[0;34m,\u001b[0m \u001b[0mfunction\u001b[0m\u001b[0;34m:\u001b[0m \u001b[0mFunctionType\u001b[0m\u001b[0;34m,\u001b[0m \u001b[0mremote_params\u001b[0m\u001b[0;34m:\u001b[0m \u001b[0mdict\u001b[0m\u001b[0;34m)\u001b[0m\u001b[0;34m:\u001b[0m\u001b[0;34m\u001b[0m\u001b[0;34m\u001b[0m\u001b[0m\n",
      "\u001b[0;32m~/anaconda3/envs/aws-asdi/lib/python3.7/site-packages/nums/core/systems/systems.py\u001b[0m in \u001b[0;36mget\u001b[0;34m(self, object_ids)\u001b[0m\n\u001b[1;32m    208\u001b[0m \u001b[0;34m\u001b[0m\u001b[0m\n\u001b[1;32m    209\u001b[0m     \u001b[0;32mdef\u001b[0m \u001b[0mget\u001b[0m\u001b[0;34m(\u001b[0m\u001b[0mself\u001b[0m\u001b[0;34m,\u001b[0m \u001b[0mobject_ids\u001b[0m\u001b[0;34m)\u001b[0m\u001b[0;34m:\u001b[0m\u001b[0;34m\u001b[0m\u001b[0;34m\u001b[0m\u001b[0m\n\u001b[0;32m--> 210\u001b[0;31m         \u001b[0;32mreturn\u001b[0m \u001b[0mray\u001b[0m\u001b[0;34m.\u001b[0m\u001b[0mget\u001b[0m\u001b[0;34m(\u001b[0m\u001b[0mobject_ids\u001b[0m\u001b[0;34m)\u001b[0m\u001b[0;34m\u001b[0m\u001b[0;34m\u001b[0m\u001b[0m\n\u001b[0m\u001b[1;32m    211\u001b[0m \u001b[0;34m\u001b[0m\u001b[0m\n\u001b[1;32m    212\u001b[0m     \u001b[0;32mdef\u001b[0m \u001b[0mremote\u001b[0m\u001b[0;34m(\u001b[0m\u001b[0mself\u001b[0m\u001b[0;34m,\u001b[0m \u001b[0mfunction\u001b[0m\u001b[0;34m:\u001b[0m \u001b[0mFunctionType\u001b[0m\u001b[0;34m,\u001b[0m \u001b[0mremote_params\u001b[0m\u001b[0;34m:\u001b[0m \u001b[0mdict\u001b[0m\u001b[0;34m)\u001b[0m\u001b[0;34m:\u001b[0m\u001b[0;34m\u001b[0m\u001b[0;34m\u001b[0m\u001b[0m\n",
      "\u001b[0;32m~/anaconda3/envs/aws-asdi/lib/python3.7/site-packages/ray/_private/client_mode_hook.py\u001b[0m in \u001b[0;36mwrapper\u001b[0;34m(*args, **kwargs)\u001b[0m\n\u001b[1;32m     80\u001b[0m         \u001b[0;32mif\u001b[0m \u001b[0mclient_mode_should_convert\u001b[0m\u001b[0;34m(\u001b[0m\u001b[0;34m)\u001b[0m\u001b[0;34m:\u001b[0m\u001b[0;34m\u001b[0m\u001b[0;34m\u001b[0m\u001b[0m\n\u001b[1;32m     81\u001b[0m             \u001b[0;32mreturn\u001b[0m \u001b[0mgetattr\u001b[0m\u001b[0;34m(\u001b[0m\u001b[0mray\u001b[0m\u001b[0;34m,\u001b[0m \u001b[0mfunc\u001b[0m\u001b[0;34m.\u001b[0m\u001b[0m__name__\u001b[0m\u001b[0;34m)\u001b[0m\u001b[0;34m(\u001b[0m\u001b[0;34m*\u001b[0m\u001b[0margs\u001b[0m\u001b[0;34m,\u001b[0m \u001b[0;34m**\u001b[0m\u001b[0mkwargs\u001b[0m\u001b[0;34m)\u001b[0m\u001b[0;34m\u001b[0m\u001b[0;34m\u001b[0m\u001b[0m\n\u001b[0;32m---> 82\u001b[0;31m         \u001b[0;32mreturn\u001b[0m \u001b[0mfunc\u001b[0m\u001b[0;34m(\u001b[0m\u001b[0;34m*\u001b[0m\u001b[0margs\u001b[0m\u001b[0;34m,\u001b[0m \u001b[0;34m**\u001b[0m\u001b[0mkwargs\u001b[0m\u001b[0;34m)\u001b[0m\u001b[0;34m\u001b[0m\u001b[0;34m\u001b[0m\u001b[0m\n\u001b[0m\u001b[1;32m     83\u001b[0m \u001b[0;34m\u001b[0m\u001b[0m\n\u001b[1;32m     84\u001b[0m     \u001b[0;32mreturn\u001b[0m \u001b[0mwrapper\u001b[0m\u001b[0;34m\u001b[0m\u001b[0;34m\u001b[0m\u001b[0m\n",
      "\u001b[0;32m~/anaconda3/envs/aws-asdi/lib/python3.7/site-packages/ray/worker.py\u001b[0m in \u001b[0;36mget\u001b[0;34m(object_refs, timeout)\u001b[0m\n\u001b[1;32m   1619\u001b[0m                     \u001b[0mworker\u001b[0m\u001b[0;34m.\u001b[0m\u001b[0mcore_worker\u001b[0m\u001b[0;34m.\u001b[0m\u001b[0mdump_object_store_memory_usage\u001b[0m\u001b[0;34m(\u001b[0m\u001b[0;34m)\u001b[0m\u001b[0;34m\u001b[0m\u001b[0;34m\u001b[0m\u001b[0m\n\u001b[1;32m   1620\u001b[0m                 \u001b[0;32mif\u001b[0m \u001b[0misinstance\u001b[0m\u001b[0;34m(\u001b[0m\u001b[0mvalue\u001b[0m\u001b[0;34m,\u001b[0m \u001b[0mRayTaskError\u001b[0m\u001b[0;34m)\u001b[0m\u001b[0;34m:\u001b[0m\u001b[0;34m\u001b[0m\u001b[0;34m\u001b[0m\u001b[0m\n\u001b[0;32m-> 1621\u001b[0;31m                     \u001b[0;32mraise\u001b[0m \u001b[0mvalue\u001b[0m\u001b[0;34m.\u001b[0m\u001b[0mas_instanceof_cause\u001b[0m\u001b[0;34m(\u001b[0m\u001b[0;34m)\u001b[0m\u001b[0;34m\u001b[0m\u001b[0;34m\u001b[0m\u001b[0m\n\u001b[0m\u001b[1;32m   1622\u001b[0m                 \u001b[0;32melse\u001b[0m\u001b[0;34m:\u001b[0m\u001b[0;34m\u001b[0m\u001b[0;34m\u001b[0m\u001b[0m\n\u001b[1;32m   1623\u001b[0m                     \u001b[0;32mraise\u001b[0m \u001b[0mvalue\u001b[0m\u001b[0;34m\u001b[0m\u001b[0;34m\u001b[0m\u001b[0m\n",
      "\u001b[0;31mRayTaskError(NotFittedError)\u001b[0m: \u001b[36mray::ModelActor.predict()\u001b[39m (pid=54907, ip=10.0.0.198, repr=<nums.sklearn.ElasticNetActor object at 0x7ff094d4a990>)\n  File \"/home/ubuntu/anaconda3/envs/aws-asdi/lib/python3.7/site-packages/nums/sklearn.py\", line 165, in predict\n    return self.instance.predict(X)\n  File \"/home/ubuntu/anaconda3/envs/aws-asdi/lib/python3.7/site-packages/sklearn/linear_model/_base.py\", line 238, in predict\n    return self._decision_function(X)\n  File \"/home/ubuntu/anaconda3/envs/aws-asdi/lib/python3.7/site-packages/sklearn/linear_model/_coordinate_descent.py\", line 893, in _decision_function\n    check_is_fitted(self)\n  File \"/home/ubuntu/anaconda3/envs/aws-asdi/lib/python3.7/site-packages/sklearn/utils/validation.py\", line 63, in inner_f\n    return f(*args, **kwargs)\n  File \"/home/ubuntu/anaconda3/envs/aws-asdi/lib/python3.7/site-packages/sklearn/utils/validation.py\", line 1041, in check_is_fitted\n    raise NotFittedError(msg % {'name': type(estimator).__name__})\nsklearn.exceptions.NotFittedError: This ElasticNet instance is not fitted yet. Call 'fit' with appropriate arguments before using this estimator."
     ]
    }
   ],
   "source": [
    "from nums import from_modin\n",
    "from nums.sklearn import (\n",
    "    ElasticNet,\n",
    "    GradientBoostingRegressor,\n",
    "    _check_array, instance, #\n",
    ")\n",
    "\n",
    "# df = pd.DataFrame(data={\"A\": np.arange(100), \"B\": np.arange(1, 101), \"C\": np.arange(2, 102)}, dtype=float)\n",
    "# df.at[1, \"B\"] = np.nan\n",
    "# display(df.head())\n",
    "# X = from_modin(df[[\"A\", \"B\"]])\n",
    "# y = from_modin(df[[\"C\"]])\n",
    "\n",
    "melih_size = 10\n",
    "X, y = nps.random.randn(melih_size, 2), nps.random.randint(2, size=melih_size)\n",
    "X[1, 1] = np.nan\n",
    "model = ElasticNet()\n",
    "model.fit(X, y) # No error because doesn't call ray.get()\n",
    "\n",
    "# Disassembling model.fit\n",
    "# _check_array(X, True)\n",
    "# _check_array(y, True)\n",
    "# instance().cm.call_actor_method(model.actor, \"fit\", X.flattened_oids()[0], y.flattened_oids()[0])\n",
    "\n",
    "model.predict(X[0:2]).get() # Throws NotFittedError with no indication of NaN anywhere\n",
    "# Reproduced in scripts/script_sklearn.py\n",
    "# Seems like ray.get() only raises the last error encountered\n",
    "\n",
    "# model = GradientBoostingRegressor()\n",
    "# model.fit(X, y)\n",
    "# model.predict(X[2:4]).get() # Throws NotFittedError, but would throw \"Input contains NaN\" if arg to predict contains NaN"
   ]
  },
  {
   "cell_type": "code",
   "execution_count": 4,
   "id": "6a27f4e4",
   "metadata": {},
   "outputs": [
    {
     "ename": "ValueError",
     "evalue": "Input contains NaN, infinity or a value too large for dtype('float64').",
     "output_type": "error",
     "traceback": [
      "\u001b[0;31m---------------------------------------------------------------------------\u001b[0m",
      "\u001b[0;31mValueError\u001b[0m                                Traceback (most recent call last)",
      "\u001b[0;32m/tmp/ipykernel_101645/2471397792.py\u001b[0m in \u001b[0;36m<module>\u001b[0;34m\u001b[0m\n\u001b[1;32m     12\u001b[0m \u001b[0;34m\u001b[0m\u001b[0m\n\u001b[1;32m     13\u001b[0m \u001b[0mmodel\u001b[0m \u001b[0;34m=\u001b[0m \u001b[0mElasticNet\u001b[0m\u001b[0;34m(\u001b[0m\u001b[0;34m)\u001b[0m\u001b[0;34m\u001b[0m\u001b[0;34m\u001b[0m\u001b[0m\n\u001b[0;32m---> 14\u001b[0;31m \u001b[0mmodel\u001b[0m\u001b[0;34m.\u001b[0m\u001b[0mfit\u001b[0m\u001b[0;34m(\u001b[0m\u001b[0mX\u001b[0m\u001b[0;34m,\u001b[0m \u001b[0my\u001b[0m\u001b[0;34m)\u001b[0m \u001b[0;31m# Throws ValueError right away (expected)\u001b[0m\u001b[0;34m\u001b[0m\u001b[0;34m\u001b[0m\u001b[0m\n\u001b[0m\u001b[1;32m     15\u001b[0m \u001b[0mmodel\u001b[0m\u001b[0;34m.\u001b[0m\u001b[0mpredict\u001b[0m\u001b[0;34m(\u001b[0m\u001b[0mX\u001b[0m\u001b[0;34m[\u001b[0m\u001b[0;36m0\u001b[0m\u001b[0;34m:\u001b[0m\u001b[0;36m2\u001b[0m\u001b[0;34m]\u001b[0m\u001b[0;34m)\u001b[0m\u001b[0;34m\u001b[0m\u001b[0;34m\u001b[0m\u001b[0m\n",
      "\u001b[0;32m~/anaconda3/envs/aws-asdi/lib/python3.7/site-packages/sklearn/linear_model/_coordinate_descent.py\u001b[0m in \u001b[0;36mfit\u001b[0;34m(self, X, y, sample_weight, check_input)\u001b[0m\n\u001b[1;32m    773\u001b[0m                                        \u001b[0mdtype\u001b[0m\u001b[0;34m=\u001b[0m\u001b[0;34m[\u001b[0m\u001b[0mnp\u001b[0m\u001b[0;34m.\u001b[0m\u001b[0mfloat64\u001b[0m\u001b[0;34m,\u001b[0m \u001b[0mnp\u001b[0m\u001b[0;34m.\u001b[0m\u001b[0mfloat32\u001b[0m\u001b[0;34m]\u001b[0m\u001b[0;34m,\u001b[0m\u001b[0;34m\u001b[0m\u001b[0;34m\u001b[0m\u001b[0m\n\u001b[1;32m    774\u001b[0m                                        \u001b[0mcopy\u001b[0m\u001b[0;34m=\u001b[0m\u001b[0mX_copied\u001b[0m\u001b[0;34m,\u001b[0m \u001b[0mmulti_output\u001b[0m\u001b[0;34m=\u001b[0m\u001b[0;32mTrue\u001b[0m\u001b[0;34m,\u001b[0m\u001b[0;34m\u001b[0m\u001b[0;34m\u001b[0m\u001b[0m\n\u001b[0;32m--> 775\u001b[0;31m                                        y_numeric=True)\n\u001b[0m\u001b[1;32m    776\u001b[0m             y = check_array(y, order='F', copy=False, dtype=X.dtype.type,\n\u001b[1;32m    777\u001b[0m                             ensure_2d=False)\n",
      "\u001b[0;32m~/anaconda3/envs/aws-asdi/lib/python3.7/site-packages/sklearn/base.py\u001b[0m in \u001b[0;36m_validate_data\u001b[0;34m(self, X, y, reset, validate_separately, **check_params)\u001b[0m\n\u001b[1;32m    431\u001b[0m                 \u001b[0my\u001b[0m \u001b[0;34m=\u001b[0m \u001b[0mcheck_array\u001b[0m\u001b[0;34m(\u001b[0m\u001b[0my\u001b[0m\u001b[0;34m,\u001b[0m \u001b[0;34m**\u001b[0m\u001b[0mcheck_y_params\u001b[0m\u001b[0;34m)\u001b[0m\u001b[0;34m\u001b[0m\u001b[0;34m\u001b[0m\u001b[0m\n\u001b[1;32m    432\u001b[0m             \u001b[0;32melse\u001b[0m\u001b[0;34m:\u001b[0m\u001b[0;34m\u001b[0m\u001b[0;34m\u001b[0m\u001b[0m\n\u001b[0;32m--> 433\u001b[0;31m                 \u001b[0mX\u001b[0m\u001b[0;34m,\u001b[0m \u001b[0my\u001b[0m \u001b[0;34m=\u001b[0m \u001b[0mcheck_X_y\u001b[0m\u001b[0;34m(\u001b[0m\u001b[0mX\u001b[0m\u001b[0;34m,\u001b[0m \u001b[0my\u001b[0m\u001b[0;34m,\u001b[0m \u001b[0;34m**\u001b[0m\u001b[0mcheck_params\u001b[0m\u001b[0;34m)\u001b[0m\u001b[0;34m\u001b[0m\u001b[0;34m\u001b[0m\u001b[0m\n\u001b[0m\u001b[1;32m    434\u001b[0m             \u001b[0mout\u001b[0m \u001b[0;34m=\u001b[0m \u001b[0mX\u001b[0m\u001b[0;34m,\u001b[0m \u001b[0my\u001b[0m\u001b[0;34m\u001b[0m\u001b[0;34m\u001b[0m\u001b[0m\n\u001b[1;32m    435\u001b[0m \u001b[0;34m\u001b[0m\u001b[0m\n",
      "\u001b[0;32m~/anaconda3/envs/aws-asdi/lib/python3.7/site-packages/sklearn/utils/validation.py\u001b[0m in \u001b[0;36minner_f\u001b[0;34m(*args, **kwargs)\u001b[0m\n\u001b[1;32m     61\u001b[0m             \u001b[0mextra_args\u001b[0m \u001b[0;34m=\u001b[0m \u001b[0mlen\u001b[0m\u001b[0;34m(\u001b[0m\u001b[0margs\u001b[0m\u001b[0;34m)\u001b[0m \u001b[0;34m-\u001b[0m \u001b[0mlen\u001b[0m\u001b[0;34m(\u001b[0m\u001b[0mall_args\u001b[0m\u001b[0;34m)\u001b[0m\u001b[0;34m\u001b[0m\u001b[0;34m\u001b[0m\u001b[0m\n\u001b[1;32m     62\u001b[0m             \u001b[0;32mif\u001b[0m \u001b[0mextra_args\u001b[0m \u001b[0;34m<=\u001b[0m \u001b[0;36m0\u001b[0m\u001b[0;34m:\u001b[0m\u001b[0;34m\u001b[0m\u001b[0;34m\u001b[0m\u001b[0m\n\u001b[0;32m---> 63\u001b[0;31m                 \u001b[0;32mreturn\u001b[0m \u001b[0mf\u001b[0m\u001b[0;34m(\u001b[0m\u001b[0;34m*\u001b[0m\u001b[0margs\u001b[0m\u001b[0;34m,\u001b[0m \u001b[0;34m**\u001b[0m\u001b[0mkwargs\u001b[0m\u001b[0;34m)\u001b[0m\u001b[0;34m\u001b[0m\u001b[0;34m\u001b[0m\u001b[0m\n\u001b[0m\u001b[1;32m     64\u001b[0m \u001b[0;34m\u001b[0m\u001b[0m\n\u001b[1;32m     65\u001b[0m             \u001b[0;31m# extra_args > 0\u001b[0m\u001b[0;34m\u001b[0m\u001b[0;34m\u001b[0m\u001b[0;34m\u001b[0m\u001b[0m\n",
      "\u001b[0;32m~/anaconda3/envs/aws-asdi/lib/python3.7/site-packages/sklearn/utils/validation.py\u001b[0m in \u001b[0;36mcheck_X_y\u001b[0;34m(X, y, accept_sparse, accept_large_sparse, dtype, order, copy, force_all_finite, ensure_2d, allow_nd, multi_output, ensure_min_samples, ensure_min_features, y_numeric, estimator)\u001b[0m\n\u001b[1;32m    819\u001b[0m                     \u001b[0mensure_min_samples\u001b[0m\u001b[0;34m=\u001b[0m\u001b[0mensure_min_samples\u001b[0m\u001b[0;34m,\u001b[0m\u001b[0;34m\u001b[0m\u001b[0;34m\u001b[0m\u001b[0m\n\u001b[1;32m    820\u001b[0m                     \u001b[0mensure_min_features\u001b[0m\u001b[0;34m=\u001b[0m\u001b[0mensure_min_features\u001b[0m\u001b[0;34m,\u001b[0m\u001b[0;34m\u001b[0m\u001b[0;34m\u001b[0m\u001b[0m\n\u001b[0;32m--> 821\u001b[0;31m                     estimator=estimator)\n\u001b[0m\u001b[1;32m    822\u001b[0m     \u001b[0;32mif\u001b[0m \u001b[0mmulti_output\u001b[0m\u001b[0;34m:\u001b[0m\u001b[0;34m\u001b[0m\u001b[0;34m\u001b[0m\u001b[0m\n\u001b[1;32m    823\u001b[0m         y = check_array(y, accept_sparse='csr', force_all_finite=True,\n",
      "\u001b[0;32m~/anaconda3/envs/aws-asdi/lib/python3.7/site-packages/sklearn/utils/validation.py\u001b[0m in \u001b[0;36minner_f\u001b[0;34m(*args, **kwargs)\u001b[0m\n\u001b[1;32m     61\u001b[0m             \u001b[0mextra_args\u001b[0m \u001b[0;34m=\u001b[0m \u001b[0mlen\u001b[0m\u001b[0;34m(\u001b[0m\u001b[0margs\u001b[0m\u001b[0;34m)\u001b[0m \u001b[0;34m-\u001b[0m \u001b[0mlen\u001b[0m\u001b[0;34m(\u001b[0m\u001b[0mall_args\u001b[0m\u001b[0;34m)\u001b[0m\u001b[0;34m\u001b[0m\u001b[0;34m\u001b[0m\u001b[0m\n\u001b[1;32m     62\u001b[0m             \u001b[0;32mif\u001b[0m \u001b[0mextra_args\u001b[0m \u001b[0;34m<=\u001b[0m \u001b[0;36m0\u001b[0m\u001b[0;34m:\u001b[0m\u001b[0;34m\u001b[0m\u001b[0;34m\u001b[0m\u001b[0m\n\u001b[0;32m---> 63\u001b[0;31m                 \u001b[0;32mreturn\u001b[0m \u001b[0mf\u001b[0m\u001b[0;34m(\u001b[0m\u001b[0;34m*\u001b[0m\u001b[0margs\u001b[0m\u001b[0;34m,\u001b[0m \u001b[0;34m**\u001b[0m\u001b[0mkwargs\u001b[0m\u001b[0;34m)\u001b[0m\u001b[0;34m\u001b[0m\u001b[0;34m\u001b[0m\u001b[0m\n\u001b[0m\u001b[1;32m     64\u001b[0m \u001b[0;34m\u001b[0m\u001b[0m\n\u001b[1;32m     65\u001b[0m             \u001b[0;31m# extra_args > 0\u001b[0m\u001b[0;34m\u001b[0m\u001b[0;34m\u001b[0m\u001b[0;34m\u001b[0m\u001b[0m\n",
      "\u001b[0;32m~/anaconda3/envs/aws-asdi/lib/python3.7/site-packages/sklearn/utils/validation.py\u001b[0m in \u001b[0;36mcheck_array\u001b[0;34m(array, accept_sparse, accept_large_sparse, dtype, order, copy, force_all_finite, ensure_2d, allow_nd, ensure_min_samples, ensure_min_features, estimator)\u001b[0m\n\u001b[1;32m    662\u001b[0m         \u001b[0;32mif\u001b[0m \u001b[0mforce_all_finite\u001b[0m\u001b[0;34m:\u001b[0m\u001b[0;34m\u001b[0m\u001b[0;34m\u001b[0m\u001b[0m\n\u001b[1;32m    663\u001b[0m             _assert_all_finite(array,\n\u001b[0;32m--> 664\u001b[0;31m                                allow_nan=force_all_finite == 'allow-nan')\n\u001b[0m\u001b[1;32m    665\u001b[0m \u001b[0;34m\u001b[0m\u001b[0m\n\u001b[1;32m    666\u001b[0m     \u001b[0;32mif\u001b[0m \u001b[0mensure_min_samples\u001b[0m \u001b[0;34m>\u001b[0m \u001b[0;36m0\u001b[0m\u001b[0;34m:\u001b[0m\u001b[0;34m\u001b[0m\u001b[0;34m\u001b[0m\u001b[0m\n",
      "\u001b[0;32m~/anaconda3/envs/aws-asdi/lib/python3.7/site-packages/sklearn/utils/validation.py\u001b[0m in \u001b[0;36m_assert_all_finite\u001b[0;34m(X, allow_nan, msg_dtype)\u001b[0m\n\u001b[1;32m    104\u001b[0m                     \u001b[0mmsg_err\u001b[0m\u001b[0;34m.\u001b[0m\u001b[0mformat\u001b[0m\u001b[0;34m\u001b[0m\u001b[0;34m\u001b[0m\u001b[0m\n\u001b[1;32m    105\u001b[0m                     (type_err,\n\u001b[0;32m--> 106\u001b[0;31m                      msg_dtype if msg_dtype is not None else X.dtype)\n\u001b[0m\u001b[1;32m    107\u001b[0m             )\n\u001b[1;32m    108\u001b[0m     \u001b[0;31m# for object dtype data, we only check for NaNs (GH-13254)\u001b[0m\u001b[0;34m\u001b[0m\u001b[0;34m\u001b[0m\u001b[0;34m\u001b[0m\u001b[0m\n",
      "\u001b[0;31mValueError\u001b[0m: Input contains NaN, infinity or a value too large for dtype('float64')."
     ]
    }
   ],
   "source": [
    "from sklearn.linear_model import ElasticNet\n",
    "\n",
    "# df = pd.DataFrame(data={\"A\": np.arange(100), \"B\": np.arange(1, 101), \"C\": np.arange(2, 102)}, dtype=float)\n",
    "# df.at[1, \"B\"] = np.nan\n",
    "# display(df.head())\n",
    "# X = from_modin(df[[\"A\", \"B\"]])\n",
    "# y = from_modin(df[[\"C\"]])\n",
    "\n",
    "melih_size = 10\n",
    "X, y = np.random.randn(melih_size, 2), np.random.randint(2, size=melih_size)\n",
    "X[1, 1] = np.nan\n",
    "\n",
    "model = ElasticNet()\n",
    "model.fit(X, y) # Throws ValueError right away (expected)\n",
    "model.predict(X[0:2])"
   ]
  },
  {
   "cell_type": "code",
   "execution_count": null,
   "id": "64ea0472",
   "metadata": {},
   "outputs": [],
   "source": []
  }
 ],
 "metadata": {
  "kernelspec": {
   "display_name": "Python 3 (ipykernel)",
   "language": "python",
   "name": "python3"
  },
  "language_info": {
   "codemirror_mode": {
    "name": "ipython",
    "version": 3
   },
   "file_extension": ".py",
   "mimetype": "text/x-python",
   "name": "python",
   "nbconvert_exporter": "python",
   "pygments_lexer": "ipython3",
   "version": "3.7.12"
  }
 },
 "nbformat": 4,
 "nbformat_minor": 5
}
