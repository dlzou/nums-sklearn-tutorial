{
 "cells": [
  {
   "cell_type": "markdown",
   "metadata": {},
   "source": [
    "# AWS-ASDI Auto-Regressive Model Example"
   ]
  },
  {
   "cell_type": "code",
   "execution_count": 1,
   "metadata": {},
   "outputs": [],
   "source": [
    "import numpy as np\n",
    "import pandas\n",
    "import matplotlib.pyplot as plt\n",
    "import os\n",
    "import sys"
   ]
  },
  {
   "cell_type": "code",
   "execution_count": 2,
   "metadata": {},
   "outputs": [],
   "source": [
    "import ray\n",
    "from modin import pandas as pd\n",
    "from nums import numpy as nps\n",
    "from nums.core import settings\n",
    "from nums.experimental import nums_modin\n",
    "import boto3\n",
    "from tqdm import tqdm"
   ]
  },
  {
   "cell_type": "code",
   "execution_count": 5,
   "metadata": {},
   "outputs": [
    {
     "name": "stderr",
     "output_type": "stream",
     "text": [
      "2021-09-24 13:21:18,208\tINFO services.py:1265 -- View the Ray dashboard at \u001b[1m\u001b[32mhttp://127.0.0.1:8265\u001b[39m\u001b[22m\n"
     ]
    },
    {
     "data": {
      "text/plain": [
       "(1, 1)"
      ]
     },
     "execution_count": 5,
     "metadata": {},
     "output_type": "execute_result"
    }
   ],
   "source": [
    "# Cluster settings\n",
    "os.environ[\"RAY_IGNORE_UNHANDLED_ERRORS\"] = \"1\"\n",
    "# ray.init(ignore_reinit_error=True, address=\"auto\") # On cluster\n",
    "ray.init() # On local machine\n",
    "if len(ray.nodes()) > 1:\n",
    "    settings.cluster_shape = (len(ray.nodes()) - 1, 1)\n",
    "settings.cluster_shape"
   ]
  },
  {
   "cell_type": "markdown",
   "metadata": {},
   "source": [
    "# Global Variables"
   ]
  },
  {
   "cell_type": "code",
   "execution_count": 15,
   "metadata": {},
   "outputs": [],
   "source": [
    "# Global variables\n",
    "elements = [\"PRCP\", \"SNOW\", \"SNWD\", \"TMAX\", \"TMIN\"]\n",
    "all_years = list(range(1800, 2022))\n",
    "local = True"
   ]
  },
  {
   "cell_type": "code",
   "execution_count": null,
   "metadata": {},
   "outputs": [],
   "source": [
    "if local:\n",
    "    stations = pd.read_fwf(\"../ghcnd/ghcnd-stations.txt\", widths=[12, 9, 10, 7, 3, 31, 4, 4, 6], header=None)\n",
    "else:\n",
    "    stations = pd.read_fwf(\"s3://noaa-ghcn-pds/ghcnd-stations.txt\", widths=[12, 9, 10, 7, 3, 31, 4, 4, 6], header=None)\n",
    "stations.columns = [\"ID\", \"LATITUDE\", \"LONGITUDE\", \"ELEVATION\", \"STATE\", \"NAME\", \"GSN FLAG\", \"HCN/CRN FLAG\", \"WMO ID\"]\n",
    "stations"
   ]
  },
  {
   "cell_type": "raw",
   "metadata": {},
   "source": [
    "if local:\n",
    "    country_codes = pd.read_csv(\"../ghcnd/ghcnd-countries.txt\", delimiter=\"\\n\", header=None)[0].str.extract('(?P<code>.{2})(?P<country>.{0,})')\n",
    "else:\n",
    "    country_codes = pd.read_csv(\"s3://noaa-ghcn-pds/ghcnd-countries.txt\", delimiter=\"\\n\", header=None)[0].str.extract('(?P<code>.{2})(?P<country>.{0,})')\n",
    "country_codes"
   ]
  },
  {
   "cell_type": "markdown",
   "metadata": {},
   "source": [
    "# Utility Functions"
   ]
  },
  {
   "cell_type": "markdown",
   "metadata": {},
   "source": [
    "Load inventory table of year ranges for which a feature is available from a particular station."
   ]
  },
  {
   "cell_type": "code",
   "execution_count": 6,
   "metadata": {},
   "outputs": [
    {
     "data": {
      "text/html": [
       "<div>\n",
       "<style scoped>\n",
       "    .dataframe tbody tr th:only-of-type {\n",
       "        vertical-align: middle;\n",
       "    }\n",
       "\n",
       "    .dataframe tbody tr th {\n",
       "        vertical-align: top;\n",
       "    }\n",
       "\n",
       "    .dataframe thead th {\n",
       "        text-align: right;\n",
       "    }\n",
       "</style>\n",
       "<table border=\"1\" class=\"dataframe\">\n",
       "  <thead>\n",
       "    <tr style=\"text-align: right;\">\n",
       "      <th></th>\n",
       "      <th>ID</th>\n",
       "      <th>LATITUDE</th>\n",
       "      <th>LONGITUDE</th>\n",
       "      <th>ELEMENT</th>\n",
       "      <th>FIRSTYEAR</th>\n",
       "      <th>LASTYEAR</th>\n",
       "    </tr>\n",
       "  </thead>\n",
       "  <tbody>\n",
       "    <tr>\n",
       "      <th>0</th>\n",
       "      <td>ACW00011604</td>\n",
       "      <td>17.1167</td>\n",
       "      <td>-61.7833</td>\n",
       "      <td>TMAX</td>\n",
       "      <td>1949</td>\n",
       "      <td>1949</td>\n",
       "    </tr>\n",
       "    <tr>\n",
       "      <th>1</th>\n",
       "      <td>ACW00011604</td>\n",
       "      <td>17.1167</td>\n",
       "      <td>-61.7833</td>\n",
       "      <td>TMIN</td>\n",
       "      <td>1949</td>\n",
       "      <td>1949</td>\n",
       "    </tr>\n",
       "    <tr>\n",
       "      <th>2</th>\n",
       "      <td>ACW00011604</td>\n",
       "      <td>17.1167</td>\n",
       "      <td>-61.7833</td>\n",
       "      <td>PRCP</td>\n",
       "      <td>1949</td>\n",
       "      <td>1949</td>\n",
       "    </tr>\n",
       "    <tr>\n",
       "      <th>3</th>\n",
       "      <td>ACW00011604</td>\n",
       "      <td>17.1167</td>\n",
       "      <td>-61.7833</td>\n",
       "      <td>SNOW</td>\n",
       "      <td>1949</td>\n",
       "      <td>1949</td>\n",
       "    </tr>\n",
       "    <tr>\n",
       "      <th>4</th>\n",
       "      <td>ACW00011604</td>\n",
       "      <td>17.1167</td>\n",
       "      <td>-61.7833</td>\n",
       "      <td>SNWD</td>\n",
       "      <td>1949</td>\n",
       "      <td>1949</td>\n",
       "    </tr>\n",
       "  </tbody>\n",
       "</table>\n",
       "</div>"
      ],
      "text/plain": [
       "            ID  LATITUDE  LONGITUDE ELEMENT  FIRSTYEAR  LASTYEAR\n",
       "0  ACW00011604   17.1167   -61.7833    TMAX       1949      1949\n",
       "1  ACW00011604   17.1167   -61.7833    TMIN       1949      1949\n",
       "2  ACW00011604   17.1167   -61.7833    PRCP       1949      1949\n",
       "3  ACW00011604   17.1167   -61.7833    SNOW       1949      1949\n",
       "4  ACW00011604   17.1167   -61.7833    SNWD       1949      1949"
      ]
     },
     "execution_count": 6,
     "metadata": {},
     "output_type": "execute_result"
    }
   ],
   "source": [
    "inventory = pd.read_fwf('s3://noaa-ghcn-pds/ghcnd-inventory.txt', widths=[12, 9, 10, 4, 5, 5], header=None, \n",
    "                        names=[\"ID\", \"LATITUDE\", \"LONGITUDE\", \"ELEMENT\", \"FIRSTYEAR\", \"LASTYEAR\"])\n",
    "inventory.head()"
   ]
  },
  {
   "cell_type": "code",
   "execution_count": 7,
   "metadata": {},
   "outputs": [
    {
     "name": "stderr",
     "output_type": "stream",
     "text": [
      "UserWarning: File has mismatched quotes\n"
     ]
    },
    {
     "data": {
      "text/html": [
       "<div>\n",
       "<style scoped>\n",
       "    .dataframe tbody tr th:only-of-type {\n",
       "        vertical-align: middle;\n",
       "    }\n",
       "\n",
       "    .dataframe tbody tr th {\n",
       "        vertical-align: top;\n",
       "    }\n",
       "\n",
       "    .dataframe thead th {\n",
       "        text-align: right;\n",
       "    }\n",
       "</style>\n",
       "<table border=\"1\" class=\"dataframe\">\n",
       "  <thead>\n",
       "    <tr style=\"text-align: right;\">\n",
       "      <th></th>\n",
       "      <th>ID</th>\n",
       "      <th>LATITUDE</th>\n",
       "      <th>LONGITUDE</th>\n",
       "      <th>ELEVATION</th>\n",
       "      <th>STATE</th>\n",
       "      <th>NAME</th>\n",
       "      <th>GSN FLAG</th>\n",
       "      <th>HCN/CRN FLAG</th>\n",
       "      <th>WMO ID</th>\n",
       "    </tr>\n",
       "  </thead>\n",
       "  <tbody>\n",
       "    <tr>\n",
       "      <th>0</th>\n",
       "      <td>ACW00011604</td>\n",
       "      <td>17.1167</td>\n",
       "      <td>-61.7833</td>\n",
       "      <td>10.1</td>\n",
       "      <td>NaN</td>\n",
       "      <td>ST JOHNS COOLIDGE FLD</td>\n",
       "      <td>NaN</td>\n",
       "      <td>NaN</td>\n",
       "      <td>NaN</td>\n",
       "    </tr>\n",
       "    <tr>\n",
       "      <th>1</th>\n",
       "      <td>ACW00011647</td>\n",
       "      <td>17.1333</td>\n",
       "      <td>-61.7833</td>\n",
       "      <td>19.2</td>\n",
       "      <td>NaN</td>\n",
       "      <td>ST JOHNS</td>\n",
       "      <td>NaN</td>\n",
       "      <td>NaN</td>\n",
       "      <td>NaN</td>\n",
       "    </tr>\n",
       "    <tr>\n",
       "      <th>2</th>\n",
       "      <td>AE000041196</td>\n",
       "      <td>25.3330</td>\n",
       "      <td>55.5170</td>\n",
       "      <td>34.0</td>\n",
       "      <td>NaN</td>\n",
       "      <td>SHARJAH INTER. AIRP</td>\n",
       "      <td>GSN</td>\n",
       "      <td>NaN</td>\n",
       "      <td>41196.0</td>\n",
       "    </tr>\n",
       "    <tr>\n",
       "      <th>3</th>\n",
       "      <td>AEM00041194</td>\n",
       "      <td>25.2550</td>\n",
       "      <td>55.3640</td>\n",
       "      <td>10.4</td>\n",
       "      <td>NaN</td>\n",
       "      <td>DUBAI INTL</td>\n",
       "      <td>NaN</td>\n",
       "      <td>NaN</td>\n",
       "      <td>41194.0</td>\n",
       "    </tr>\n",
       "    <tr>\n",
       "      <th>4</th>\n",
       "      <td>AEM00041217</td>\n",
       "      <td>24.4330</td>\n",
       "      <td>54.6510</td>\n",
       "      <td>26.8</td>\n",
       "      <td>NaN</td>\n",
       "      <td>ABU DHABI INTL</td>\n",
       "      <td>NaN</td>\n",
       "      <td>NaN</td>\n",
       "      <td>41217.0</td>\n",
       "    </tr>\n",
       "  </tbody>\n",
       "</table>\n",
       "</div>"
      ],
      "text/plain": [
       "            ID  LATITUDE  LONGITUDE  ELEVATION STATE                   NAME  \\\n",
       "0  ACW00011604   17.1167   -61.7833       10.1   NaN  ST JOHNS COOLIDGE FLD   \n",
       "1  ACW00011647   17.1333   -61.7833       19.2   NaN               ST JOHNS   \n",
       "2  AE000041196   25.3330    55.5170       34.0   NaN    SHARJAH INTER. AIRP   \n",
       "3  AEM00041194   25.2550    55.3640       10.4   NaN             DUBAI INTL   \n",
       "4  AEM00041217   24.4330    54.6510       26.8   NaN         ABU DHABI INTL   \n",
       "\n",
       "  GSN FLAG  HCN/CRN FLAG   WMO ID  \n",
       "0      NaN           NaN      NaN  \n",
       "1      NaN           NaN      NaN  \n",
       "2      GSN           NaN  41196.0  \n",
       "3      NaN           NaN  41194.0  \n",
       "4      NaN           NaN  41217.0  "
      ]
     },
     "execution_count": 7,
     "metadata": {},
     "output_type": "execute_result"
    }
   ],
   "source": [
    "stations = pd.read_fwf('s3://noaa-ghcn-pds/ghcnd-stations.txt', widths=[12, 9, 10, 7, 3, 31, 4, 4, 6], header=None, \n",
    "                       names=[\"ID\", \"LATITUDE\", \"LONGITUDE\", \"ELEVATION\", \"STATE\", \"NAME\", \"GSN FLAG\", \"HCN/CRN FLAG\", \"WMO ID\"])\n",
    "stations.head()"
   ]
  },
  {
   "cell_type": "markdown",
   "metadata": {},
   "source": [
    "We define a function that loads the dataframe for a specific year from .csv data, then use it to load dataframes from 1800-2021, caching them in a dictionary."
   ]
  },
  {
   "cell_type": "code",
   "execution_count": 8,
   "metadata": {},
   "outputs": [],
   "source": [
    "# Memoize dictionary of yearly dfs\n",
    "def data_loader(year, local=False):\n",
    "    assert year in all_years\n",
    "    if local:\n",
    "        df = pd.read_csv(f\"../ghcnd/csv/{year}.csv\", header=None, names=[\n",
    "            \"ID\", \"YEAR/MONTH/DAY\", \"ELEMENT\", \"DATA VALUE\", \"M-FLAG\", \"Q-FLAG\", \"S-FLAG\", \"OBS-TIME\"\n",
    "        ])\n",
    "    else:\n",
    "        df = pd.read_csv(f\"s3://noaa-ghcn-pds/csv/{year}.csv\", header=None, names=[\n",
    "            \"ID\", \"YEAR/MONTH/DAY\", \"ELEMENT\", \"DATA VALUE\", \"M-FLAG\", \"Q-FLAG\", \"S-FLAG\", \"OBS-TIME\"\n",
    "        ])\n",
    "    df.columns = [\"ID\", \"YEAR/MONTH/DAY\", \"ELEMENT\", \"DATA VALUE\", \"M-FLAG\", \"Q-FLAG\", \"S-FLAG\", \"OBS-TIME\"]\n",
    "    df[\"YEAR/MONTH/DAY\"] = pd.to_datetime(df[\"YEAR/MONTH/DAY\"], format=\"%Y%m%d\")\n",
    "    return df\n",
    "\n",
    "year_dfs = {}\n",
    "for year in all_years:\n",
    "    year_dfs[year] = data_loader(year, local)"
   ]
  },
  {
   "cell_type": "markdown",
   "metadata": {},
   "source": [
    "For each station, we create a time series dataframe. This involves selecting rows from all year_dfs with a matching station ID and element and appending them, with the date as the index."
   ]
  },
  {
   "cell_type": "code",
   "execution_count": 9,
   "metadata": {},
   "outputs": [],
   "source": [
    "def time_series(years_range, station_id, elements, local=False, df=None):\n",
    "    assert isinstance(elements, list)\n",
    "    df_elements = pd.DataFrame(columns=[\"DATA VALUE\"])\n",
    "    for year in tqdm(years_range):\n",
    "        df = data_loader(year, local)\n",
    "        df = df.loc[(df[\"ID\"] == station_id) & (df[\"ELEMENT\"].isin(elements))]\n",
    "        \n",
    "        if df_elements.empty:\n",
    "            df_elements = df\n",
    "        else:\n",
    "            df_elements = df_elements.append(df)\n",
    "        \n",
    "    df_result = pd.pivot_table(df_elements, values=[\"DATA VALUE\"], index=[\"YEAR/MONTH/DAY\"], columns=[\"ELEMENT\"])\n",
    "    df_result = df_result.sort_index()\n",
    "    return df_result\n",
    "    \n",
    "# Save created time series? Using s3?"
   ]
  },
  {
   "cell_type": "markdown",
   "metadata": {},
   "source": [
    "Return maximal time series from available year ranges for features from a station."
   ]
  },
  {
   "cell_type": "code",
   "execution_count": null,
   "metadata": {},
   "outputs": [],
   "source": [
    "def max_time_series(station_id, elements, local=local):\n",
    "    start, end = 0, np.inf\n",
    "    for el in elements:\n",
    "        start = max(start, inventory[(inventory[\"ID\"]==station_id) & (inventory[\"ELEMENT\"]==el)][\"FIRSTYEAR\"])\n",
    "        end = min(end, inventory[(inventory[\"ID\"]==station_id) & (inventory[\"ELEMENT\"]==el)][\"LASTYEAR\"])\n",
    "    if start <= end:\n",
    "        return time_series(range(start, end + 1), station_id, elements, local=local)"
   ]
  },
  {
   "cell_type": "markdown",
   "metadata": {},
   "source": [
    "Standard RMSE to be used during testing."
   ]
  },
  {
   "cell_type": "code",
   "execution_count": 11,
   "metadata": {},
   "outputs": [],
   "source": [
    "def rmse(y, pred):\n",
    "    if isinstance(y, np.ndarray):\n",
    "        return np.sqrt(np.mean((pred - y) ** 2))\n",
    "    else:\n",
    "        return nps.sqrt(nps.mean((pred - y) ** 2))"
   ]
  },
  {
   "cell_type": "raw",
   "metadata": {},
   "source": [
    "df_test = time_series(range(2000, 2002), \"CA001011500\", [\"PRCP\", \"SNOW\", \"TMAX\", \"TMIN\"], local=local)"
   ]
  },
  {
   "cell_type": "markdown",
   "metadata": {},
   "source": [
    "# Univariate AR Using Yule-Walker Equations"
   ]
  },
  {
   "cell_type": "raw",
   "metadata": {},
   "source": [
    "def univar_ar(years_range, station_id, element, p=10, local=False, df=None):\n",
    "    if df is None:\n",
    "        df = time_series(years_range, station_id, [element], local=local)\n",
    "    else:\n",
    "        df = df[[element]]\n",
    "    df_len = df.shape[0]\n",
    "    \n",
    "    # NumPy version\n",
    "#     tseries = df[element].to_numpy()\n",
    "#     indices = np.arange(p + 1)[None, :] + np.arange(tseries.size - p)[:, None]\n",
    "#     mat = tseries[indices]\n",
    "#     cleaned = mat[~np.isnan(mat).any(axis=1)]\n",
    "\n",
    "    # NumS + Modin version\n",
    "    pred_df = pd.concat([df[element].iloc[i : df_len - p + i]\n",
    "                         .reset_index(drop=True) for i in np.arange(p)], axis=1)\n",
    "    resp_df = df[element].iloc[p:].reset_index(drop=True)\n",
    "    combined_df = pd.concat((pred_df, resp_df), axis=1).dropna()\n",
    "    \n",
    "    combined = nums_modin.from_modin(combined_df)\n",
    "    return combined[:, :-1], combined[:, -1].T"
   ]
  },
  {
   "cell_type": "raw",
   "metadata": {
    "scrolled": true
   },
   "source": [
    "from statsmodels.tsa.stattools import pacf\n",
    "\n",
    "p = 20\n",
    "tmax = time_series(range(2000, 2002), \"CA001011500\", [\"TMAX\"], local=local).to_numpy()\n",
    "corr = pacf(tmax, nlags=p, method=\"yw\") ** 2\n",
    "beta = nps.array(np.flip(corr[1:]))\n",
    "# indices = np.abs(np.arange(0, p)[None, :] - np.arange(0, p)[:, None])\n",
    "# R = corr[indices]\n",
    "# r = corr[1:]\n",
    "# phi = np.linalg.inv(R).dot(r)"
   ]
  },
  {
   "cell_type": "raw",
   "metadata": {},
   "source": [
    "# http://www-stat.wharton.upenn.edu/~steele/Courses/956/ResourceDetails/YWSourceFiles/YW-Eshel.pdf\n",
    "# https://www.statsmodels.org/stable/_modules/statsmodels/regression/linear_model.html#yule_walker\n",
    "\n",
    "def yule_walker(x, p=1):\n",
    "    x -= nps.mean(x)\n",
    "    n = x.shape[0]\n",
    "    r = nps.zeros(p + 1)\n",
    "    r[0] = nps.sum(x ** 2) / n\n",
    "    for k in range(1, p + 1):\n",
    "        r[k] = (x[0:-k] * x[k:]).sum() / (n - k)\n",
    "        \n",
    "    temp = nps.concatenate((r[-2:0:-1], r[:-1]))\n",
    "    R = nps.vstack([temp[i:i+p] for i in range(p)])\n",
    "    print(R.get())"
   ]
  },
  {
   "cell_type": "raw",
   "metadata": {},
   "source": [
    "p = 20\n",
    "tmax = time_series(range(2000, 2001), \"CA001011500\", [\"TMAX\"], local=local).to_numpy()\n",
    "yule_walker(x, p=p)"
   ]
  },
  {
   "cell_type": "raw",
   "metadata": {
    "scrolled": true
   },
   "source": [
    "X_test, y_test = univar_ar(range(2002, 2003), \"CA001011500\", \"TMAX\", p=p, local=local, df=df_test)\n",
    "print(X_test.shape, X_test.block_shape)\n",
    "print(y_test.shape, y_test.block_shape)\n",
    "pred = nps.dot(X_test, beta.reshape(-1, 1))\n",
    "print(rmse(y_test, pred).get())"
   ]
  },
  {
   "cell_type": "raw",
   "metadata": {},
   "source": [
    "plt.figure(figsize=(15, 5))\n",
    "plt.plot(np.arange(y_test.size), y_test.get() / 10, label=\"y_test\")\n",
    "plt.plot(np.arange(pred.size), pred.get() / 10, label=\"pred\")\n",
    "plt.xlabel(\"Day\")\n",
    "plt.ylabel(\"Degrees Celcius\")\n",
    "plt.legend()\n",
    "plt.show()"
   ]
  },
  {
   "cell_type": "raw",
   "metadata": {},
   "source": [
    "window = 100\n",
    "\n",
    "plt.figure(figsize=(15, 5))\n",
    "plt.plot(np.arange(window), y_test[:window].get() / 10, label=\"y_test\")\n",
    "plt.plot(np.arange(window), pred[:window].get() / 10, label=\"pred\")\n",
    "plt.xlabel(\"Day\")\n",
    "plt.ylabel(\"Degrees Celcius\")\n",
    "plt.legend()\n",
    "plt.show()"
   ]
  },
  {
   "cell_type": "raw",
   "metadata": {},
   "source": [
    "plt.figure(figsize=(10, 5))\n",
    "plt.plot(np.arange(beta.size), beta.get(), label=\"beta\")\n",
    "plt.xticks(np.arange(2, beta.size, 2))\n",
    "plt.xlabel(\"Lag Offset (p)\")\n",
    "plt.ylabel(\"Weight\")\n",
    "plt.legend()\n",
    "plt.show()"
   ]
  },
  {
   "cell_type": "markdown",
   "metadata": {},
   "source": [
    "# Multivariate AR"
   ]
  },
  {
   "cell_type": "markdown",
   "metadata": {},
   "source": [
    "We write function that generates the multivariate design matrix. "
   ]
  },
  {
   "cell_type": "code",
   "execution_count": 29,
   "metadata": {},
   "outputs": [],
   "source": [
    "def multivar_ar(years_range, station_id, predictors, response, p=10, local=False, df=None):\n",
    "    assert isinstance(predictors, list)\n",
    "    elements = predictors\n",
    "    if response not in predictors:\n",
    "        elements.append(response)\n",
    "    if df is None:\n",
    "        df = time_series(years_range, station_id, elements, local=local)\n",
    "    else:\n",
    "        df = df[elements]\n",
    "    # num_pred = len(predictors)\n",
    "    df_len = df.shape[0]\n",
    "    \n",
    "    # NumPy version\n",
    "#     pred_series = df[predictors].to_numpy().flatten()\n",
    "#     pred_ind = np.arange(num_pred * p).reshape(1, -1) + num_pred * np.arange(df_len - p).reshape(-1, 1)\n",
    "#     pred_mat = pred_series[pred_ind]\n",
    "    \n",
    "#     resp_vec = df[response].to_numpy()[p:].reshape(-1, 1)\n",
    "#     combined = np.hstack((pred_mat, resp_vec))\n",
    "#     cleaned2 = combined[~np.isnan(combined).any(axis=1)]\n",
    "\n",
    "    # NumPy version 2\n",
    "#     pred_series = np.array(df[predictors].to_numpy())\n",
    "#     pred_mat = np.hstack([pred_series[i : df_len - p + i] for i in np.arange(p)])\n",
    "    \n",
    "#     resp_vec = np.array(df[response].to_numpy())[p:].reshape(-1, 1)\n",
    "#     combined = np.concatenate((pred_mat, resp_vec), axis=1)\n",
    "#     cleaned2 = combined[~np.any(np.isnan(combined), axis=1)]\n",
    "    \n",
    "    # NumS + Modin version\n",
    "    pred_df = pd.concat([df[predictors].iloc[i : df_len - p + i]\n",
    "                         .reset_index(drop=True) for i in np.arange(p)], axis=1)\n",
    "    resp_df = df[response].iloc[p:].reset_index(drop=True)\n",
    "    \n",
    "    # impute avg temp on day across all years instead of drop? then add check for NaN\n",
    "    # OR impute using sklearn preprocessor (plan B)\n",
    "    combined_df = pd.concat((pred_df, resp_df), axis=1).dropna() \n",
    "    \n",
    "    # Add constant intercept term\n",
    "    combined_df[\"INTERCEPT\"] = 1  # REMOVE, sklearn adds it already\n",
    "    \n",
    "    # check if from_modin returns single partition\n",
    "    # new argument to enforce single partition NumS array\n",
    "    combined = nums_modin.from_modin(combined_df) \n",
    "    return combined[:, :-1], combined[:, -1].T"
   ]
  },
  {
   "cell_type": "markdown",
   "metadata": {},
   "source": [
    "Create our linear regression model."
   ]
  },
  {
   "cell_type": "code",
   "execution_count": 30,
   "metadata": {},
   "outputs": [
    {
     "name": "stdout",
     "output_type": "stream",
     "text": [
      "(970, 80) (970, 80)\n",
      "(970,) (970,)\n",
      "(80,)\n"
     ]
    }
   ],
   "source": [
    "from nums.models.glms import LinearRegression\n",
    "\n",
    "# ElasticNet, GradientBoostedTreeReg, RandomForestTreeReg, MLPReg, SVR x p ranges per station\n",
    "# Use MSE to score random validation set (0.2)\n",
    "# Train on training + validation set, test with best model (0.2)\n",
    "model = LinearRegression()\n",
    "p = 20\n",
    "predictors = [\"TMAX\", \"TMIN\", \"PRCP\", \"SNOW\"]\n",
    "response = \"TMAX\"\n",
    "X, y = multivar_ar(range(2000, 2002), \"CA001011500\", predictors, response, p=p, local=local, df=df_test)\n",
    "print(X.shape, X.block_shape)\n",
    "print(y.shape, y.block_shape)\n",
    "model.fit(X.astype(np.double), y.astype(np.double))\n",
    "print(model._beta.get().shape)"
   ]
  },
  {
   "cell_type": "markdown",
   "metadata": {},
   "source": [
    "Test our model on actual temperature data from a different time range. The RMSE is in units of a tenth of a degree Celcius."
   ]
  },
  {
   "cell_type": "code",
   "execution_count": 31,
   "metadata": {},
   "outputs": [
    {
     "name": "stdout",
     "output_type": "stream",
     "text": [
      "22.32199352710446\n"
     ]
    }
   ],
   "source": [
    "X_test, y_test = multivar_ar(range(2002, 2003), \"CA001011500\", predictors, response, p=p, local=local, df=df_test)\n",
    "XX_test = X_test.astype(np.double)\n",
    "yy_test = y_test.astype(np.double)\n",
    "pred = model.predict(XX_test)\n",
    "print(rmse(yy_test, pred).get())"
   ]
  },
  {
   "cell_type": "code",
   "execution_count": 32,
   "metadata": {
    "scrolled": false
   },
   "outputs": [
    {
     "data": {
      "image/png": "[encoded data removed]",
      "text/plain": [
       "<Figure size 1080x360 with 1 Axes>"
      ]
     },
     "metadata": {
      "needs_background": "light"
     },
     "output_type": "display_data"
    }
   ],
   "source": [
    "plt.figure(figsize=(15, 5))\n",
    "plt.plot(np.arange(yy_test.size), yy_test.get() / 10, label=\"y_test\")\n",
    "plt.plot(np.arange(pred.size), pred.get() / 10, label=\"pred\")\n",
    "plt.xlabel(\"Day\")\n",
    "plt.ylabel(\"Degrees Celcius\")\n",
    "plt.legend()\n",
    "plt.show()"
   ]
  },
  {
   "cell_type": "markdown",
   "metadata": {},
   "source": [
    "Visualize the weight parameters of our model."
   ]
  },
  {
   "cell_type": "code",
   "execution_count": 35,
   "metadata": {},
   "outputs": [
    {
     "data": {
      "image/png": "[encoded data removed]",
      "text/plain": [
       "<Figure size 720x360 with 1 Axes>"
      ]
     },
     "metadata": {
      "needs_background": "light"
     },
     "output_type": "display_data"
    }
   ],
   "source": [
    "plt.figure(figsize=(10, 5))\n",
    "for i, pr in enumerate(predictors):\n",
    "    plt.plot(np.arange(model._beta.size / len(predictors)), model._beta.get()[i::len(predictors)], label=f\"beta ({pr})\")\n",
    "plt.xlabel(\"Lag offset (p)\")\n",
    "plt.ylabel(\"Weight\")\n",
    "plt.legend()\n",
    "plt.show()"
   ]
  },
  {
   "cell_type": "code",
   "execution_count": null,
   "metadata": {},
   "outputs": [],
   "source": [
    "predictors = [\"TMAX\", \"TMIN\", \"PRCP\", \"SNOW\"]\n",
    "filtered_inv = inventory[inventory[\"ELEMENT\"].isin(predictors)]\n",
    "agg_dict = {\n",
    "    \"FIRSTYEAR\": np.max;\n",
    "    \"LASTYEAR\": np.min;\n",
    "}\n",
    "station_ranges = filtered_inv.groupby(\"ID\").filter(lambda g: len(g) != len(predictors)).agg(agg_dict)\n",
    "station_ranges.head()"
   ]
  },
  {
   "cell_type": "code",
   "execution_count": null,
   "metadata": {},
   "outputs": [],
   "source": [
    "from nums.sklearn import *\n",
    "\n",
    "for station_range in station_ranges.itertuples():\n",
    "    \n",
    "\n",
    "# for station_id in stations[\"ID\"]:\n",
    "#     check inventory, get range for station\n",
    "#     split range to train, validation test sets\n",
    "#     do hyperparameter search on lag p with (cross) validation\n",
    "#     train on sklearn actor model\n",
    "#     sklearn pipelines?"
   ]
  },
  {
   "cell_type": "raw",
   "metadata": {},
   "source": [
    "m = []\n",
    "for i in range(1, 51):\n",
    "    X, y = multivar_ar(range(2000, 2003), \"CA001011500\", [\"TMAX\", \"TMIN\", \"PRCP\", \"SNOW\"], \"TMAX\", p=i, local=local, df=df00_03)\n",
    "    beta = np.linalg.inv(X.T @ X) @ X.T\n",
    "    beta = beta.dot(y)\n",
    "    X_test, y_test = multivar_ar(range(2002, 2003), \"AQW00061705\", [\"TMAX\", \"TMIN\", \"PRCP\", \"SNOW\"], \"TMAX\", p=i, local=local, df=df00_03)\n",
    "    pred = X_test @ beta\n",
    "    m.append(mse(y_test, pred))\n",
    "\n",
    "plt.figure(figsize=(15, 5))\n",
    "plt.plot(np.arange(len(m)), m, label=\"m\")\n",
    "plt.legend()\n",
    "plt.show()"
   ]
  },
  {
   "cell_type": "code",
   "execution_count": null,
   "metadata": {},
   "outputs": [],
   "source": []
  }
 ],
 "metadata": {
  "kernelspec": {
   "display_name": "Python 3 (ipykernel)",
   "language": "python",
   "name": "python3"
  },
  "language_info": {
   "codemirror_mode": {
    "name": "ipython",
    "version": 3
   },
   "file_extension": ".py",
   "mimetype": "text/x-python",
   "name": "python",
   "nbconvert_exporter": "python",
   "pygments_lexer": "ipython3",
   "version": "3.7.11"
  }
 },
 "nbformat": 4,
 "nbformat_minor": 2
}
